{
 "cells": [
  {
   "cell_type": "markdown",
   "metadata": {},
   "source": [
    "# CbO"
   ]
  },
  {
   "cell_type": "code",
   "execution_count": 6,
   "metadata": {},
   "outputs": [],
   "source": [
    "from itertools import chain, combinations\n",
    "\n",
    "def powerset(iterable):\n",
    "    \"powerset([1,2,3]) --> () (1,) (2,) (3,) (1,2) (1,3) (2,3) (1,2,3)\"\n",
    "    s = list(iterable)\n",
    "    return chain.from_iterable(combinations(s, r) for r in range(len(s)+1))"
   ]
  },
  {
   "cell_type": "code",
   "execution_count": 7,
   "metadata": {},
   "outputs": [],
   "source": [
    "G = {1, 2, 3, 4, 5}\n",
    "M = {'a', 'b', 'c', 'd'}\n",
    "M_G = {\n",
    "    'a': {2, 4, 5},\n",
    "    'b': {1, 2, 3, 5},\n",
    "    'c': {1, 2, 3},\n",
    "    'd': {1, 4, 5},\n",
    "}\n",
    "G_M = {\n",
    "    1: {'b', 'c', 'd'},\n",
    "    2: {'a', 'b', 'c'},\n",
    "    3: {'b', 'c'},\n",
    "    4: {'a', 'd'},\n",
    "    5: {'a', 'b', 'd'}\n",
    "}"
   ]
  },
  {
   "cell_type": "code",
   "execution_count": 8,
   "metadata": {},
   "outputs": [],
   "source": [
    "# simple functions for getting derivatives from sets (for both \"dimensions\")\n",
    "\n",
    "def derivative_g(g):\n",
    "    if len(g) == 0:\n",
    "        return M\n",
    "    \n",
    "    der = M.copy()\n",
    "    for i in g:\n",
    "        der &= G_M[i]\n",
    "\n",
    "    return der\n",
    "\n",
    "def derivative_m(m):\n",
    "    if len(m) == 0:\n",
    "        return G\n",
    "    \n",
    "    der = G.copy()\n",
    "    for i in m:\n",
    "        der &= M_G[i]\n",
    "\n",
    "    return der"
   ]
  },
  {
   "cell_type": "markdown",
   "metadata": {},
   "source": [
    "# Equivalence classes"
   ]
  },
  {
   "cell_type": "code",
   "execution_count": 9,
   "metadata": {},
   "outputs": [
    {
     "name": "stdout",
     "output_type": "stream",
     "text": [
      "{1, 2, 3, 4, 5} [[]]\n",
      "{1, 2, 3} [['c'], ['b', 'c']]\n",
      "{2, 4, 5} [['a']]\n",
      "{1, 2, 3, 5} [['b']]\n",
      "{1, 4, 5} [['d']]\n",
      "{2} [['a', 'c'], ['a', 'b', 'c']]\n",
      "{1} [['c', 'd'], ['b', 'c', 'd']]\n",
      "{2, 5} [['a', 'b']]\n",
      "{4, 5} [['a', 'd']]\n",
      "{1, 5} [['b', 'd']]\n",
      "set() [['a', 'c', 'd'], ['a', 'b', 'c', 'd']]\n",
      "{5} [['a', 'b', 'd']]\n"
     ]
    }
   ],
   "source": [
    "# algorithm implementation for computing the set of equivalence classes\n",
    "\n",
    "powerset_of_M = list(sorted(set(x)) for x in powerset(M))\n",
    "eq_classes = {}\n",
    "\n",
    "for s in powerset_of_M:\n",
    "    s_d = frozenset(derivative_g(derivative_m(s)))\n",
    "    if s_d in eq_classes:\n",
    "        eq_classes[s_d].append(s)\n",
    "    else:\n",
    "        eq_classes[s_d] = [s]\n",
    "\n",
    "for [key, value] in eq_classes.items():\n",
    "    print(derivative_m(key), value)"
   ]
  },
  {
   "cell_type": "markdown",
   "metadata": {},
   "source": [
    "# Minimal generators"
   ]
  },
  {
   "cell_type": "code",
   "execution_count": 10,
   "metadata": {},
   "outputs": [
    {
     "name": "stdout",
     "output_type": "stream",
     "text": [
      "{1, 2, 3, 4, 5} [[]]\n",
      "{1, 2, 3} [['c']]\n",
      "{2, 4, 5} [['a']]\n",
      "{1, 2, 3, 5} [['b']]\n",
      "{1, 4, 5} [['d']]\n",
      "{2} [['a', 'c']]\n",
      "{1} [['c', 'd']]\n",
      "{2, 5} [['a', 'b']]\n",
      "{4, 5} [['a', 'd']]\n",
      "{1, 5} [['b', 'd']]\n",
      "set() [['a', 'c', 'd']]\n",
      "{5} [['a', 'b', 'd']]\n"
     ]
    }
   ],
   "source": [
    "# algorithm implementation for computing the set of minimal generators\n",
    "\n",
    "def is_min_generator(eq_class):\n",
    "    eq_class_closure = derivative_g(derivative_m(eq_class))\n",
    "    pset = list(sorted(set(x)) for x in powerset(elem))\n",
    "    for i in pset:\n",
    "        if (i == eq_class):\n",
    "            continue\n",
    "        if (derivative_g(derivative_m(i)) == eq_class_closure):\n",
    "            return False\n",
    "    return True\n",
    "\n",
    "min_generators = {}\n",
    "\n",
    "for [key, value] in eq_classes.items():\n",
    "    for elem in value:\n",
    "        if (not is_min_generator(elem)):\n",
    "            continue\n",
    "\n",
    "        if key in min_generators:\n",
    "            min_generators[key].append(elem)\n",
    "        else:\n",
    "            min_generators[key] = [elem]\n",
    "        \n",
    "\n",
    "for [key, value] in min_generators.items():\n",
    "    print(derivative_m(key), value)"
   ]
  },
  {
   "cell_type": "markdown",
   "metadata": {},
   "source": [
    "# Generator implication cover"
   ]
  },
  {
   "cell_type": "code",
   "execution_count": 11,
   "metadata": {},
   "outputs": [
    {
     "name": "stdout",
     "output_type": "stream",
     "text": [
      "['c'] => {'b'}\n",
      "['a', 'c'] => {'b'}\n",
      "['c', 'd'] => {'b'}\n",
      "['a', 'c', 'd'] => {'b'}\n"
     ]
    }
   ],
   "source": [
    "nmingen = []\n",
    "for key in eq_classes:\n",
    "    if len(eq_classes[key]) == 1:\n",
    "        continue\n",
    "    nmingen += min_generators[key]\n",
    "\n",
    "for f in nmingen:\n",
    "    print(f'{f} => {derivative_g(derivative_m(f)).difference(f)}')"
   ]
  },
  {
   "cell_type": "code",
   "execution_count": 12,
   "metadata": {},
   "outputs": [
    {
     "name": "stdout",
     "output_type": "stream",
     "text": [
      "{'c'} => {'b'}\n"
     ]
    }
   ],
   "source": [
    "proper_premises = {}\n",
    "\n",
    "for s in powerset_of_M:\n",
    "    s_d = frozenset(derivative_g(derivative_m(s)))\n",
    "    s_union = set(s)\n",
    "    for el in s:\n",
    "        s_union |= derivative_g(derivative_m(set(s) - set(el)))\n",
    "                                \n",
    "    if s_d == s_union:\n",
    "        continue\n",
    "    proper_premises[s_d] = set(s)\n",
    "\n",
    "for [key, value] in proper_premises.items():\n",
    "    print(f'{value} => {set(key) - value}')"
   ]
  },
  {
   "cell_type": "markdown",
   "metadata": {},
   "source": [
    "# Find Duquenne-Guigues bases"
   ]
  },
  {
   "cell_type": "code",
   "execution_count": 13,
   "metadata": {},
   "outputs": [
    {
     "name": "stdout",
     "output_type": "stream",
     "text": [
      "{'a'} => {'e'}\n",
      "{'b'} => {'c'}\n",
      "{'c', 'e'} => {'a', 'b', 'd'}\n",
      "{'c', 'd'} => {'b'}\n",
      "{'a', 'e', 'd'} => {'c', 'b'}\n"
     ]
    }
   ],
   "source": [
    "G = {12, 15, 23, 24, 25, 34, 35}\n",
    "M = {'a', 'b', 'c', 'd', 'e'}\n",
    "M_G = {\n",
    "    'a': {35},\n",
    "    'b': {15, 23},\n",
    "    'c': {15, 23, 24, 34},\n",
    "    'd': {12, 15, 25},\n",
    "    'e': {12, 35}\n",
    "}\n",
    "G_M = {\n",
    "    12: {'d', 'e'},\n",
    "    15: {'b', 'c', 'd'},\n",
    "    23: {'b', 'c'},\n",
    "    24: {'c'},\n",
    "    25: {'d'},\n",
    "    34: {'c'},\n",
    "    35: {'a', 'e'},\n",
    "}\n",
    "\n",
    "def is_pseudointent(p):\n",
    "    if derivative_g(derivative_m(p)) == p:\n",
    "        return False\n",
    "\n",
    "    power_p = list(set(x) for x in powerset(p))\n",
    "    for q in power_p[:-1]:\n",
    "        q_dd = derivative_g(derivative_m(q))\n",
    "\n",
    "        if len(q) ==0:\n",
    "            continue\n",
    "        if is_pseudointent(q) and not (q_dd.issubset(p) and len(p) != len(q_dd)):\n",
    "            return False\n",
    "    return True\n",
    "\n",
    "power_M = list(set(x) for x in powerset(M))\n",
    "im_base_classes = []\n",
    "for p in power_M:\n",
    "    if not is_pseudointent(p):\n",
    "        continue\n",
    "    print(p, '=>', derivative_g(derivative_m(p)).difference(p))"
   ]
  },
  {
   "cell_type": "code",
   "execution_count": null,
   "metadata": {},
   "outputs": [],
   "source": []
  }
 ],
 "metadata": {
  "kernelspec": {
   "display_name": "Python 3 (ipykernel)",
   "language": "python",
   "name": "python3"
  },
  "language_info": {
   "codemirror_mode": {
    "name": "ipython",
    "version": 3
   },
   "file_extension": ".py",
   "mimetype": "text/x-python",
   "name": "python",
   "nbconvert_exporter": "python",
   "pygments_lexer": "ipython3",
   "version": "3.11.6"
  },
  "vscode": {
   "interpreter": {
    "hash": "aee8b7b246df8f9039afb4144a1f6fd8d2ca17a180786b69acc140d282b71a49"
   }
  }
 },
 "nbformat": 4,
 "nbformat_minor": 2
}
