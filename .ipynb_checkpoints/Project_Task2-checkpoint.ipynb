{
 "cells": [
  {
   "cell_type": "code",
   "execution_count": 1,
   "id": "12972a14",
   "metadata": {},
   "outputs": [],
   "source": [
    "import pandas as pd\n",
    "import numpy as np\n",
    "import matplotlib.pyplot as plt\n",
    "import seaborn as sns\n",
    "\n",
    "from sklearn.model_selection import cross_val_score\n",
    "from sklearn.metrics import precision_score, classification_report"
   ]
  },
  {
   "cell_type": "code",
   "execution_count": 2,
   "id": "ad95b240",
   "metadata": {},
   "outputs": [
    {
     "data": {
      "text/plain": [
       "((5110, 12),\n",
       "          id  gender   age  hypertension  heart_disease ever_married  \\\n",
       " 0      9046    Male  67.0             0              1          Yes   \n",
       " 1     51676  Female  61.0             0              0          Yes   \n",
       " 2     31112    Male  80.0             0              1          Yes   \n",
       " 3     60182  Female  49.0             0              0          Yes   \n",
       " 4      1665  Female  79.0             1              0          Yes   \n",
       " ...     ...     ...   ...           ...            ...          ...   \n",
       " 5105  18234  Female  80.0             1              0          Yes   \n",
       " 5106  44873  Female  81.0             0              0          Yes   \n",
       " 5107  19723  Female  35.0             0              0          Yes   \n",
       " 5108  37544    Male  51.0             0              0          Yes   \n",
       " 5109  44679  Female  44.0             0              0          Yes   \n",
       " \n",
       "           work_type Residence_type  avg_glucose_level   bmi   smoking_status  \\\n",
       " 0           Private          Urban             228.69  36.6  formerly smoked   \n",
       " 1     Self-employed          Rural             202.21   NaN     never smoked   \n",
       " 2           Private          Rural             105.92  32.5     never smoked   \n",
       " 3           Private          Urban             171.23  34.4           smokes   \n",
       " 4     Self-employed          Rural             174.12  24.0     never smoked   \n",
       " ...             ...            ...                ...   ...              ...   \n",
       " 5105        Private          Urban              83.75   NaN     never smoked   \n",
       " 5106  Self-employed          Urban             125.20  40.0     never smoked   \n",
       " 5107  Self-employed          Rural              82.99  30.6     never smoked   \n",
       " 5108        Private          Rural             166.29  25.6  formerly smoked   \n",
       " 5109       Govt_job          Urban              85.28  26.2          Unknown   \n",
       " \n",
       "       stroke  \n",
       " 0          1  \n",
       " 1          1  \n",
       " 2          1  \n",
       " 3          1  \n",
       " 4          1  \n",
       " ...      ...  \n",
       " 5105       0  \n",
       " 5106       0  \n",
       " 5107       0  \n",
       " 5108       0  \n",
       " 5109       0  \n",
       " \n",
       " [5110 rows x 12 columns],\n",
       " id                     0\n",
       " gender                 0\n",
       " age                    0\n",
       " hypertension           0\n",
       " heart_disease          0\n",
       " ever_married           0\n",
       " work_type              0\n",
       " Residence_type         0\n",
       " avg_glucose_level      0\n",
       " bmi                  201\n",
       " smoking_status         0\n",
       " stroke                 0\n",
       " dtype: int64)"
      ]
     },
     "execution_count": 2,
     "metadata": {},
     "output_type": "execute_result"
    }
   ],
   "source": [
    "stroke_prediction_data = pd.read_csv(\"datasets/StrokeData.csv\", sep=',')\n",
    "stroke_prediction_data.shape, stroke_prediction_data, stroke_prediction_data.isnull().sum()"
   ]
  },
  {
   "cell_type": "code",
   "execution_count": 3,
   "id": "ad91b897",
   "metadata": {},
   "outputs": [
    {
     "data": {
      "text/plain": [
       "id                   0\n",
       "gender               0\n",
       "age                  0\n",
       "hypertension         0\n",
       "heart_disease        0\n",
       "ever_married         0\n",
       "work_type            0\n",
       "Residence_type       0\n",
       "avg_glucose_level    0\n",
       "bmi                  0\n",
       "smoking_status       0\n",
       "stroke               0\n",
       "dtype: int64"
      ]
     },
     "execution_count": 3,
     "metadata": {},
     "output_type": "execute_result"
    }
   ],
   "source": [
    "stroke_prediction_data['bmi'].fillna(stroke_prediction_data['bmi'].median(), inplace=True)\n",
    "stroke_prediction_data.isnull().sum()"
   ]
  },
  {
   "cell_type": "code",
   "execution_count": 4,
   "id": "d24ee761",
   "metadata": {},
   "outputs": [
    {
     "data": {
      "text/plain": [
       "((3276, 10),\n",
       "             ph    Hardness        Solids  Chloramines     Sulfate  \\\n",
       " 0          NaN  204.890455  20791.318981     7.300212  368.516441   \n",
       " 1     3.716080  129.422921  18630.057858     6.635246         NaN   \n",
       " 2     8.099124  224.236259  19909.541732     9.275884         NaN   \n",
       " 3     8.316766  214.373394  22018.417441     8.059332  356.886136   \n",
       " 4     9.092223  181.101509  17978.986339     6.546600  310.135738   \n",
       " ...        ...         ...           ...          ...         ...   \n",
       " 3271  4.668102  193.681735  47580.991603     7.166639  359.948574   \n",
       " 3272  7.808856  193.553212  17329.802160     8.061362         NaN   \n",
       " 3273  9.419510  175.762646  33155.578218     7.350233         NaN   \n",
       " 3274  5.126763  230.603758  11983.869376     6.303357         NaN   \n",
       " 3275  7.874671  195.102299  17404.177061     7.509306         NaN   \n",
       " \n",
       "       Conductivity  Organic_carbon  Trihalomethanes  Turbidity  Potability  \n",
       " 0       564.308654       10.379783        86.990970   2.963135           0  \n",
       " 1       592.885359       15.180013        56.329076   4.500656           0  \n",
       " 2       418.606213       16.868637        66.420093   3.055934           0  \n",
       " 3       363.266516       18.436524       100.341674   4.628771           0  \n",
       " 4       398.410813       11.558279        31.997993   4.075075           0  \n",
       " ...            ...             ...              ...        ...         ...  \n",
       " 3271    526.424171       13.894419        66.687695   4.435821           1  \n",
       " 3272    392.449580       19.903225              NaN   2.798243           1  \n",
       " 3273    432.044783       11.039070        69.845400   3.298875           1  \n",
       " 3274    402.883113       11.168946        77.488213   4.708658           1  \n",
       " 3275    327.459760       16.140368        78.698446   2.309149           1  \n",
       " \n",
       " [3276 rows x 10 columns],\n",
       " ph                 491\n",
       " Hardness             0\n",
       " Solids               0\n",
       " Chloramines          0\n",
       " Sulfate            781\n",
       " Conductivity         0\n",
       " Organic_carbon       0\n",
       " Trihalomethanes    162\n",
       " Turbidity            0\n",
       " Potability           0\n",
       " dtype: int64)"
      ]
     },
     "execution_count": 4,
     "metadata": {},
     "output_type": "execute_result"
    }
   ],
   "source": [
    "water_potability_data = pd.read_csv(\"datasets/WaterPotability.csv\", sep=',')\n",
    "water_potability_data.shape, water_potability_data, water_potability_data.isnull().sum()"
   ]
  },
  {
   "cell_type": "code",
   "execution_count": 5,
   "id": "66abe482",
   "metadata": {},
   "outputs": [
    {
     "data": {
      "text/plain": [
       "ph                 0\n",
       "Hardness           0\n",
       "Solids             0\n",
       "Chloramines        0\n",
       "Sulfate            0\n",
       "Conductivity       0\n",
       "Organic_carbon     0\n",
       "Trihalomethanes    0\n",
       "Turbidity          0\n",
       "Potability         0\n",
       "dtype: int64"
      ]
     },
     "execution_count": 5,
     "metadata": {},
     "output_type": "execute_result"
    }
   ],
   "source": [
    "water_potability_data['ph'].fillna(water_potability_data['ph'].median(), inplace=True)\n",
    "water_potability_data['Sulfate'].fillna(water_potability_data['Sulfate'].median(), inplace=True)\n",
    "water_potability_data['Trihalomethanes'].fillna(water_potability_data['Trihalomethanes'].median(), inplace=True)\n",
    "water_potability_data.isnull().sum()"
   ]
  },
  {
   "cell_type": "code",
   "execution_count": 6,
   "id": "3d55ddf0",
   "metadata": {},
   "outputs": [
    {
     "data": {
      "text/plain": [
       "((32485, 14),\n",
       "        Unnamed: 0  fixed acidity  volatile acidity  citric acid  \\\n",
       " 0            2732            7.4             0.170         0.29   \n",
       " 1            2607            5.3             0.310         0.38   \n",
       " 2            1653            4.7             0.145         0.29   \n",
       " 3            3264            6.9             0.260         0.29   \n",
       " 4            4931            6.4             0.450         0.07   \n",
       " ...           ...            ...               ...          ...   \n",
       " 32480        2838            5.0             0.255         0.22   \n",
       " 32481        6414            6.6             0.360         0.52   \n",
       " 32482        1126            6.3             0.200         0.24   \n",
       " 32483        2924            6.2             0.200         0.33   \n",
       " 32484        5462            8.1             0.280         0.46   \n",
       " \n",
       "        residual sugar  chlorides  free sulfur dioxide  total sulfur dioxide  \\\n",
       " 0                 1.4      0.047                 23.0                 107.0   \n",
       " 1                10.5      0.031                 53.0                 140.0   \n",
       " 2                 1.0      0.042                 35.0                  90.0   \n",
       " 3                 4.2      0.043                 33.0                 114.0   \n",
       " 4                 1.1      0.030                 10.0                 131.0   \n",
       " ...               ...        ...                  ...                   ...   \n",
       " 32480             2.7      0.043                 46.0                 153.0   \n",
       " 32481            11.3      0.046                  8.0                 110.0   \n",
       " 32482             1.7      0.052                 36.0                 135.0   \n",
       " 32483             5.4      0.028                 21.0                  75.0   \n",
       " 32484            15.4      0.059                 32.0                 177.0   \n",
       " \n",
       "        density    pH  sulphates  alcohol  quality        Type  \n",
       " 0      0.99390  3.52       0.65     10.4        6  White Wine  \n",
       " 1      0.99321  3.34       0.46     11.7        6  White Wine  \n",
       " 2      0.99080  3.76       0.49     11.3        6  White Wine  \n",
       " 3      0.99020  3.16       0.31     12.5        6  White Wine  \n",
       " 4      0.99050  2.97       0.28     10.8        5  White Wine  \n",
       " ...        ...   ...        ...      ...      ...         ...  \n",
       " 32480  0.99238  3.75       0.76     11.3        6  White Wine  \n",
       " 32481  0.99660  3.07       0.46      9.4        5  White Wine  \n",
       " 32482  0.99374  3.80       0.66     10.8        6  White Wine  \n",
       " 32483  0.99012  3.36       0.41     13.5        7  White Wine  \n",
       " 32484  1.00040  3.27       0.58      9.0        4  White Wine  \n",
       " \n",
       " [32485 rows x 14 columns],\n",
       " Unnamed: 0              0\n",
       " fixed acidity           0\n",
       " volatile acidity        0\n",
       " citric acid             0\n",
       " residual sugar          0\n",
       " chlorides               0\n",
       " free sulfur dioxide     0\n",
       " total sulfur dioxide    0\n",
       " density                 0\n",
       " pH                      0\n",
       " sulphates               0\n",
       " alcohol                 0\n",
       " quality                 0\n",
       " Type                    0\n",
       " dtype: int64)"
      ]
     },
     "execution_count": 6,
     "metadata": {},
     "output_type": "execute_result"
    }
   ],
   "source": [
    "wine_quality_data = pd.read_csv(\"datasets/WineQuality.csv\", sep=',')\n",
    "wine_quality_data.shape, wine_quality_data, wine_quality_data.isnull().sum()"
   ]
  },
  {
   "cell_type": "markdown",
   "id": "f34b2631",
   "metadata": {},
   "source": [
    "## Task Description\n",
    "For Task №2 of our Big Homework (Project) we have to perform classification on our selected data using standard ML tools.\n",
    "\n",
    "I will use following ML tools: `xGboost`, `Catboost`, `k-NN` and `logistic regression`."
   ]
  },
  {
   "cell_type": "code",
   "execution_count": 7,
   "id": "c8f46cd2",
   "metadata": {},
   "outputs": [],
   "source": [
    "from xgboost import XGBClassifier\n",
    "\n",
    "def xGboost_flow(X_train, X_test, y_train, y_test, n_estimators=500, max_depth=5, \n",
    "                 learning_rate=0.5, colsample_bytree=0.70, n_jobs=4, objective='binary:logistic'):\n",
    "    best_f1_score = 0.5\n",
    "    best_learning_rate = learning_rate\n",
    "    \n",
    "    while learning_rate > 0.01:\n",
    "        classifier = XGBClassifier(n_estimators=n_estimators, max_depth=max_depth, \n",
    "                               learning_rate=learning_rate, objective=objective, \n",
    "                               colsample_bytree=colsample_bytree, n_jobs=n_jobs)\n",
    "        accuracies = cross_val_score(classifier, X_train, y_train, scoring=\"accuracy\", cv = 5)\n",
    "        print(f\"accuracy mean value: {accuracies.mean()}\")\n",
    "        print(f\"accuracy STD value: {accuracies.std()}\")\n",
    "        print(f\"========================================\")\n",
    "        \n",
    "        if accuracies.mean() < best_f1_score:\n",
    "            best_f1_score = accuracies.mean()\n",
    "            best_learning_rate = learning_rate\n",
    "            \n",
    "        learning_rate -= 0.05\n",
    "    \n",
    "    final_classifier = XGBClassifier(n_estimators=n_estimators, max_depth=max_depth, \n",
    "                               learning_rate=best_learning_rate, objective=objective, \n",
    "                               colsample_bytree=colsample_bytree, n_jobs=n_jobs)\n",
    "    final_classifier.fit(X_train, y_train)\n",
    "    plt.figure(figsize=(17, 10))\n",
    "    sns.barplot(x = X_train.columns, y = final_classifier.feature_importances_)\n",
    "    \n",
    "    print(f\"XgBoost test Accuracy: {final_classifier.score(X_test, y_test)}\")\n",
    "    print(f\"XgBoost test F1 Score\\n: {classification_report(y_test, final_classifier.predict(X_test))}\")"
   ]
  },
  {
   "cell_type": "code",
   "execution_count": 8,
   "id": "c78b5531",
   "metadata": {},
   "outputs": [],
   "source": [
    "from catboost import CatBoostClassifier\n",
    "from catboost import Pool\n",
    "from catboost import cv\n",
    "\n",
    "def catboost_flow(X_train, X_test, y_train, y_test, iterations=10, learning_rate=0.5):\n",
    "    best_f1_score = 0\n",
    "    best_learning_rate = learning_rate\n",
    "    \n",
    "    while learning_rate > 0.01:\n",
    "        classifier = CatBoostClassifier(iterations=iterations, learning_rate=learning_rate, task_type='GPU')\n",
    "        \n",
    "        train_pool = Pool(data=X_train, label=y_train, has_header=True)\n",
    "        params = {\n",
    "            'loss_function': 'Logloss',\n",
    "            'iterations': iterations,\n",
    "            'learning_rate': learning_rate,\n",
    "            'eval_metric' : 'TotalF1',\n",
    "        }\n",
    "        cv_data = cv(\n",
    "            params = params,\n",
    "            pool = train_pool,\n",
    "            fold_count=5,\n",
    "            shuffle=True,\n",
    "            partition_random_seed=0,\n",
    "            plot=True,\n",
    "            stratified=False,\n",
    "            verbose=False\n",
    "        )\n",
    "        \n",
    "        f1_mean = cv_data['train-TotalF1-mean'][1]\n",
    "        print(f\"f1-score mean value: {f1_mean}\")\n",
    "        print(f\"f1-score STD value: {cv_data['train-TotalF1-std']}\")\n",
    "        print(f\"========================================\")\n",
    "        \n",
    "        if f1_mean > best_f1_score:\n",
    "            best_f1_score = f1_mean\n",
    "            best_learning_rate = learning_rate\n",
    "            \n",
    "        learning_rate -= 0.05\n",
    "    \n",
    "    final_classifier = CatBoostClassifier(iterations=iterations, learning_rate=best_learning_rate, task_type='GPU')\n",
    "    final_classifier.fit(X_train, y_train)\n",
    "    plt.figure(figsize=(17, 10))\n",
    "    sns.barplot(x = X_train.columns, y = final_classifier.feature_importances_)\n",
    "    \n",
    "    print(f\"Catboost test Accuracy: {final_classifier.score(X_test, y_test)}\")\n",
    "    print(f\"Catboost test F1 Score\\n: {classification_report(y_test, final_classifier.predict(X_test))}\")"
   ]
  },
  {
   "cell_type": "code",
   "execution_count": 9,
   "id": "56ad7b41",
   "metadata": {},
   "outputs": [],
   "source": [
    "from sklearn.neighbors import KNeighborsClassifier\n",
    "from mlxtend.plotting import plot_decision_regions\n",
    "\n",
    "def knn_flow(X_train, X_test, y_train, y_test, n_neighbors=3):\n",
    "    best_f1_score = 0\n",
    "    neighbors = n_neighbors\n",
    "    best_neighbors_count = neighbors\n",
    "    \n",
    "    while neighbors < n_neighbors * 3:\n",
    "        classifier = KNeighborsClassifier(n_neighbors=neighbors)\n",
    "        accuracies = cross_val_score(classifier, X_train, y_train, scoring=\"accuracy\", cv = 10)\n",
    "        print(f\"accuracy mean value: {accuracies.mean()}\")\n",
    "        print(f\"accuracy STD value: {accuracies.std()}\")\n",
    "        print(f\"========================================\")\n",
    "        \n",
    "        if accuracies.mean() > best_f1_score:\n",
    "            best_f1_score = accuracies.mean()\n",
    "            best_neighbors_count = neighbors\n",
    "            \n",
    "        neighbors += 1\n",
    "        \n",
    "    final_classifier = KNeighborsClassifier(n_neighbors=best_neighbors_count)\n",
    "    final_classifier.fit(X_train, y_train)\n",
    "    \n",
    "    print(f\"Knn test Accuracy: {final_classifier.score(X_test, y_test)}\")\n",
    "    print(f\"Knn test F1 Score\\n: {classification_report(y_test, final_classifier.predict(X_test))}\")"
   ]
  },
  {
   "cell_type": "code",
   "execution_count": 10,
   "id": "13737ee6",
   "metadata": {},
   "outputs": [],
   "source": [
    "from sklearn.linear_model import LogisticRegression\n",
    "\n",
    "def logreg_flow(X_train, X_test, y_train, y_test, C=100):\n",
    "    best_f1_score = 0\n",
    "    best_C = C\n",
    "    \n",
    "    while C < 1000:\n",
    "        classifier = LogisticRegression(solver='liblinear', C=C)\n",
    "        accuracies = cross_val_score(classifier, X_train, y_train, scoring=\"accuracy\", cv = 10)\n",
    "        print(f\"accuracy mean value: {accuracies.mean()}\")\n",
    "        print(f\"accuracy STD value: {accuracies.std()}\")\n",
    "        print(f\"========================================\")\n",
    "        \n",
    "        if accuracies.mean() > best_f1_score:\n",
    "            best_f1_score = accuracies.mean()\n",
    "            best_C = C\n",
    "            \n",
    "        C += 100\n",
    "        \n",
    "    final_classifier = LogisticRegression(solver='liblinear', C=best_C)\n",
    "    final_classifier.fit(X_train, y_train)\n",
    "    \n",
    "    print(f\"LogisticRegression test Accuracy: {final_classifier.score(X_test, y_test)}\")\n",
    "    print(f\"LogisticRegression test F1 Score\\n: {classification_report(y_test, final_classifier.predict(X_test))}\")"
   ]
  },
  {
   "cell_type": "code",
   "execution_count": 11,
   "id": "5a06e66b",
   "metadata": {},
   "outputs": [],
   "source": [
    "from sklearn.model_selection import train_test_split\n",
    "from sklearn.preprocessing import Binarizer, LabelEncoder"
   ]
  },
  {
   "cell_type": "code",
   "execution_count": 12,
   "id": "b02e38e6",
   "metadata": {},
   "outputs": [],
   "source": [
    "# Let's split our datasets to train and test subsets\n",
    "le = LabelEncoder()\n",
    "\n",
    "stroke_target = stroke_prediction_data['stroke']\n",
    "stroke_prediction_data = stroke_prediction_data.drop(columns = ['stroke'], axis = 1)\n",
    "\n",
    "for col in stroke_prediction_data.columns :\n",
    "    le.fit(stroke_prediction_data[col])\n",
    "    stroke_prediction_data[col] = le.transform(stroke_prediction_data[col])\n",
    "\n",
    "stroke_X_train, stroke_X_test, stroke_y_train, stroke_y_test = train_test_split(stroke_prediction_data, stroke_target, test_size=.2)"
   ]
  },
  {
   "cell_type": "code",
   "execution_count": 13,
   "id": "c2486c94",
   "metadata": {},
   "outputs": [
    {
     "name": "stdout",
     "output_type": "stream",
     "text": [
      "accuracy mean value: 0.9405562721268401\n",
      "accuracy STD value: 0.002883818122540245\n",
      "========================================\n",
      "accuracy mean value: 0.9386014789632295\n",
      "accuracy STD value: 0.002921761649134503\n",
      "========================================\n",
      "accuracy mean value: 0.9383554838651756\n",
      "accuracy STD value: 0.0022866287890339248\n",
      "========================================\n",
      "accuracy mean value: 0.9390904765182416\n",
      "accuracy STD value: 0.002600051879491363\n",
      "========================================\n",
      "accuracy mean value: 0.9390898779900226\n",
      "accuracy STD value: 0.0012050532226889385\n",
      "========================================\n",
      "accuracy mean value: 0.9408013694325653\n",
      "accuracy STD value: 0.0018621331135257062\n",
      "========================================\n",
      "accuracy mean value: 0.9408013694325653\n",
      "accuracy STD value: 0.0020162679024645527\n",
      "========================================\n",
      "accuracy mean value: 0.9420238633200959\n",
      "accuracy STD value: 0.0032732656026764058\n",
      "========================================\n",
      "accuracy mean value: 0.945693739095564\n",
      "accuracy STD value: 0.002013529214598914\n",
      "========================================\n",
      "accuracy mean value: 0.9454492403180579\n",
      "accuracy STD value: 0.0016872189891439225\n",
      "========================================\n",
      "XgBoost test Accuracy: 0.9471624266144814\n",
      "XgBoost test F1 Score\n",
      ":               precision    recall  f1-score   support\n",
      "\n",
      "           0       0.95      0.99      0.97       972\n",
      "           1       0.25      0.04      0.07        50\n",
      "\n",
      "    accuracy                           0.95      1022\n",
      "   macro avg       0.60      0.52      0.52      1022\n",
      "weighted avg       0.92      0.95      0.93      1022\n",
      "\n"
     ]
    },
    {
     "data": {
      "image/png": "[encoded data removed]",
      "text/plain": [
       "<Figure size 1700x1000 with 1 Axes>"
      ]
     },
     "metadata": {},
     "output_type": "display_data"
    }
   ],
   "source": [
    "xGboost_flow(stroke_X_train, stroke_X_test, stroke_y_train, stroke_y_test)"
   ]
  },
  {
   "cell_type": "code",
   "execution_count": 14,
   "id": "82835688",
   "metadata": {},
   "outputs": [
    {
     "data": {
      "application/vnd.jupyter.widget-view+json": {
       "model_id": "4ecd0882e9454e2883dc3ef1cb10d095",
       "version_major": 2,
       "version_minor": 0
      },
      "text/plain": [
       "MetricVisualizer(layout=Layout(align_self='stretch', height='500px'))"
      ]
     },
     "metadata": {},
     "output_type": "display_data"
    },
    {
     "name": "stdout",
     "output_type": "stream",
     "text": [
      "Training on fold [0/5]\n",
      "\n",
      "bestTest = 0.9182596482\n",
      "bestIteration = 0\n",
      "\n",
      "Training on fold [1/5]\n",
      "\n",
      "bestTest = 0.9210423942\n",
      "bestIteration = 5\n",
      "\n",
      "Training on fold [2/5]\n",
      "\n",
      "bestTest = 0.9437634135\n",
      "bestIteration = 7\n",
      "\n",
      "Training on fold [3/5]\n",
      "\n",
      "bestTest = 0.9416396579\n",
      "bestIteration = 0\n",
      "\n",
      "Training on fold [4/5]\n",
      "\n",
      "bestTest = 0.9145605474\n",
      "bestIteration = 0\n",
      "\n",
      "f1-score mean value: 0.9275897974105337\n",
      "f1-score STD value: 0    0.003454\n",
      "1    0.003454\n",
      "2    0.003659\n",
      "3    0.004300\n",
      "4    0.003565\n",
      "5    0.002963\n",
      "6    0.004562\n",
      "7    0.003157\n",
      "8    0.003056\n",
      "9    0.003625\n",
      "Name: train-TotalF1-std, dtype: float64\n",
      "========================================\n"
     ]
    },
    {
     "data": {
      "application/vnd.jupyter.widget-view+json": {
       "model_id": "c2d8a8f66af54a36bac70483bc1538e3",
       "version_major": 2,
       "version_minor": 0
      },
      "text/plain": [
       "MetricVisualizer(layout=Layout(align_self='stretch', height='500px'))"
      ]
     },
     "metadata": {},
     "output_type": "display_data"
    },
    {
     "name": "stdout",
     "output_type": "stream",
     "text": [
      "Training on fold [0/5]\n",
      "\n",
      "bestTest = 0.9182596482\n",
      "bestIteration = 0\n",
      "\n",
      "Training on fold [1/5]\n",
      "\n",
      "bestTest = 0.9223645178\n",
      "bestIteration = 8\n",
      "\n",
      "Training on fold [2/5]\n",
      "\n",
      "bestTest = 0.9451139118\n",
      "bestIteration = 6\n",
      "\n",
      "Training on fold [3/5]\n",
      "\n",
      "bestTest = 0.9416396579\n",
      "bestIteration = 0\n",
      "\n",
      "Training on fold [4/5]\n",
      "\n",
      "bestTest = 0.9145605474\n",
      "bestIteration = 0\n",
      "\n",
      "f1-score mean value: 0.9275897974105337\n",
      "f1-score STD value: 0    0.003454\n",
      "1    0.003454\n",
      "2    0.003566\n",
      "3    0.003896\n",
      "4    0.003525\n",
      "5    0.002616\n",
      "6    0.002947\n",
      "7    0.002826\n",
      "8    0.002863\n",
      "9    0.002482\n",
      "Name: train-TotalF1-std, dtype: float64\n",
      "========================================\n"
     ]
    },
    {
     "data": {
      "application/vnd.jupyter.widget-view+json": {
       "model_id": "01ee7338bda74e40b575031f5d0956d8",
       "version_major": 2,
       "version_minor": 0
      },
      "text/plain": [
       "MetricVisualizer(layout=Layout(align_self='stretch', height='500px'))"
      ]
     },
     "metadata": {},
     "output_type": "display_data"
    },
    {
     "name": "stdout",
     "output_type": "stream",
     "text": [
      "Training on fold [0/5]\n",
      "\n",
      "bestTest = 0.9182596482\n",
      "bestIteration = 0\n",
      "\n",
      "Training on fold [1/5]\n",
      "\n",
      "bestTest = 0.9200587289\n",
      "bestIteration = 0\n",
      "\n",
      "Training on fold [2/5]\n",
      "\n",
      "bestTest = 0.9457936426\n",
      "bestIteration = 8\n",
      "\n",
      "Training on fold [3/5]\n",
      "\n",
      "bestTest = 0.9416396579\n",
      "bestIteration = 0\n",
      "\n",
      "Training on fold [4/5]\n",
      "\n",
      "bestTest = 0.9145605474\n",
      "bestIteration = 0\n",
      "\n",
      "f1-score mean value: 0.9275897974105337\n",
      "f1-score STD value: 0    0.003454\n",
      "1    0.003454\n",
      "2    0.003275\n",
      "3    0.003100\n",
      "4    0.003244\n",
      "5    0.003096\n",
      "6    0.003238\n",
      "7    0.003706\n",
      "8    0.004029\n",
      "9    0.003711\n",
      "Name: train-TotalF1-std, dtype: float64\n",
      "========================================\n"
     ]
    },
    {
     "data": {
      "application/vnd.jupyter.widget-view+json": {
       "model_id": "d6cfe4d0000a4c93af31b7c36ada8d2f",
       "version_major": 2,
       "version_minor": 0
      },
      "text/plain": [
       "MetricVisualizer(layout=Layout(align_self='stretch', height='500px'))"
      ]
     },
     "metadata": {},
     "output_type": "display_data"
    },
    {
     "name": "stdout",
     "output_type": "stream",
     "text": [
      "Training on fold [0/5]\n",
      "\n",
      "bestTest = 0.9182596482\n",
      "bestIteration = 0\n",
      "\n",
      "Training on fold [1/5]\n",
      "\n",
      "bestTest = 0.9200587289\n",
      "bestIteration = 0\n",
      "\n",
      "Training on fold [2/5]\n",
      "\n",
      "bestTest = 0.9435200207\n",
      "bestIteration = 0\n",
      "\n",
      "Training on fold [3/5]\n",
      "\n",
      "bestTest = 0.9425650552\n",
      "bestIteration = 4\n",
      "\n",
      "Training on fold [4/5]\n",
      "\n",
      "bestTest = 0.9145605474\n",
      "bestIteration = 0\n",
      "\n",
      "f1-score mean value: 0.9275897974105337\n",
      "f1-score STD value: 0    0.003454\n",
      "1    0.003454\n",
      "2    0.003275\n",
      "3    0.003465\n",
      "4    0.002928\n",
      "5    0.002636\n",
      "6    0.002848\n",
      "7    0.003604\n",
      "8    0.003223\n",
      "9    0.002559\n",
      "Name: train-TotalF1-std, dtype: float64\n",
      "========================================\n"
     ]
    },
    {
     "data": {
      "application/vnd.jupyter.widget-view+json": {
       "model_id": "5bfec22ab57943c7be9d5296430174f4",
       "version_major": 2,
       "version_minor": 0
      },
      "text/plain": [
       "MetricVisualizer(layout=Layout(align_self='stretch', height='500px'))"
      ]
     },
     "metadata": {},
     "output_type": "display_data"
    },
    {
     "name": "stdout",
     "output_type": "stream",
     "text": [
      "Training on fold [0/5]\n",
      "\n",
      "bestTest = 0.9182596482\n",
      "bestIteration = 0\n",
      "\n",
      "Training on fold [1/5]\n",
      "\n",
      "bestTest = 0.9200587289\n",
      "bestIteration = 0\n",
      "\n",
      "Training on fold [2/5]\n",
      "\n",
      "bestTest = 0.9464768321\n",
      "bestIteration = 8\n",
      "\n",
      "Training on fold [3/5]\n",
      "\n",
      "bestTest = 0.9432409069\n",
      "bestIteration = 9\n",
      "\n",
      "Training on fold [4/5]\n",
      "\n",
      "bestTest = 0.9175341742\n",
      "bestIteration = 9\n",
      "\n",
      "f1-score mean value: 0.9275897974105337\n",
      "f1-score STD value: 0    0.003454\n",
      "1    0.003454\n",
      "2    0.003275\n",
      "3    0.003275\n",
      "4    0.003261\n",
      "5    0.003309\n",
      "6    0.003133\n",
      "7    0.003028\n",
      "8    0.003079\n",
      "9    0.003007\n",
      "Name: train-TotalF1-std, dtype: float64\n",
      "========================================\n"
     ]
    },
    {
     "data": {
      "application/vnd.jupyter.widget-view+json": {
       "model_id": "ae225fa3917047a9af43e60ef0235c0a",
       "version_major": 2,
       "version_minor": 0
      },
      "text/plain": [
       "MetricVisualizer(layout=Layout(align_self='stretch', height='500px'))"
      ]
     },
     "metadata": {},
     "output_type": "display_data"
    },
    {
     "name": "stdout",
     "output_type": "stream",
     "text": [
      "Training on fold [0/5]\n",
      "\n",
      "bestTest = 0.9182596482\n",
      "bestIteration = 0\n",
      "\n",
      "Training on fold [1/5]\n",
      "\n",
      "bestTest = 0.9200587289\n",
      "bestIteration = 0\n",
      "\n",
      "Training on fold [2/5]\n",
      "\n",
      "bestTest = 0.9435200207\n",
      "bestIteration = 0\n",
      "\n",
      "Training on fold [3/5]\n",
      "\n",
      "bestTest = 0.9416396579\n",
      "bestIteration = 0\n",
      "\n",
      "Training on fold [4/5]\n",
      "\n",
      "bestTest = 0.9145605474\n",
      "bestIteration = 0\n",
      "\n",
      "f1-score mean value: 0.9275897974105337\n",
      "f1-score STD value: 0    0.003454\n",
      "1    0.003454\n",
      "2    0.003454\n",
      "3    0.003454\n",
      "4    0.003454\n",
      "5    0.003454\n",
      "6    0.003275\n",
      "7    0.004202\n",
      "8    0.004421\n",
      "9    0.004299\n",
      "Name: train-TotalF1-std, dtype: float64\n",
      "========================================\n"
     ]
    },
    {
     "data": {
      "application/vnd.jupyter.widget-view+json": {
       "model_id": "e9921dcb77604ce989714e73ec4283c2",
       "version_major": 2,
       "version_minor": 0
      },
      "text/plain": [
       "MetricVisualizer(layout=Layout(align_self='stretch', height='500px'))"
      ]
     },
     "metadata": {},
     "output_type": "display_data"
    },
    {
     "name": "stdout",
     "output_type": "stream",
     "text": [
      "Training on fold [0/5]\n",
      "\n",
      "bestTest = 0.9182596482\n",
      "bestIteration = 0\n",
      "\n",
      "Training on fold [1/5]\n",
      "\n",
      "bestTest = 0.9200587289\n",
      "bestIteration = 0\n",
      "\n",
      "Training on fold [2/5]\n",
      "\n",
      "bestTest = 0.9435200207\n",
      "bestIteration = 0\n",
      "\n",
      "Training on fold [3/5]\n",
      "\n",
      "bestTest = 0.9416396579\n",
      "bestIteration = 0\n",
      "\n",
      "Training on fold [4/5]\n",
      "\n",
      "bestTest = 0.9145605474\n",
      "bestIteration = 0\n",
      "\n",
      "f1-score mean value: 0.9275897974105337\n",
      "f1-score STD value: 0    0.003454\n",
      "1    0.003454\n",
      "2    0.003275\n",
      "3    0.003454\n",
      "4    0.003123\n",
      "5    0.003123\n",
      "6    0.003123\n",
      "7    0.003002\n",
      "8    0.003235\n",
      "9    0.003230\n",
      "Name: train-TotalF1-std, dtype: float64\n",
      "========================================\n"
     ]
    },
    {
     "data": {
      "application/vnd.jupyter.widget-view+json": {
       "model_id": "5160aa22a14f47acaf7a9ecd92f5d6df",
       "version_major": 2,
       "version_minor": 0
      },
      "text/plain": [
       "MetricVisualizer(layout=Layout(align_self='stretch', height='500px'))"
      ]
     },
     "metadata": {},
     "output_type": "display_data"
    },
    {
     "name": "stdout",
     "output_type": "stream",
     "text": [
      "Training on fold [0/5]\n",
      "\n",
      "bestTest = 0.9182596482\n",
      "bestIteration = 0\n",
      "\n",
      "Training on fold [1/5]\n",
      "\n",
      "bestTest = 0.9200587289\n",
      "bestIteration = 0\n",
      "\n",
      "Training on fold [2/5]\n",
      "\n",
      "bestTest = 0.9435200207\n",
      "bestIteration = 0\n",
      "\n",
      "Training on fold [3/5]\n",
      "\n",
      "bestTest = 0.9416396579\n",
      "bestIteration = 0\n",
      "\n",
      "Training on fold [4/5]\n",
      "\n",
      "bestTest = 0.9145605474\n",
      "bestIteration = 0\n",
      "\n",
      "f1-score mean value: 0.9275897974105337\n",
      "f1-score STD value: 0    0.003454\n",
      "1    0.003454\n",
      "2    0.003454\n",
      "3    0.003454\n",
      "4    0.003454\n",
      "5    0.003454\n",
      "6    0.003454\n",
      "7    0.003454\n",
      "8    0.003454\n",
      "9    0.003454\n",
      "Name: train-TotalF1-std, dtype: float64\n",
      "========================================\n"
     ]
    },
    {
     "data": {
      "application/vnd.jupyter.widget-view+json": {
       "model_id": "29814643848d41a18d839e12546f14b6",
       "version_major": 2,
       "version_minor": 0
      },
      "text/plain": [
       "MetricVisualizer(layout=Layout(align_self='stretch', height='500px'))"
      ]
     },
     "metadata": {},
     "output_type": "display_data"
    },
    {
     "name": "stdout",
     "output_type": "stream",
     "text": [
      "Training on fold [0/5]\n",
      "\n",
      "bestTest = 0.9182596482\n",
      "bestIteration = 0\n",
      "\n",
      "Training on fold [1/5]\n",
      "\n",
      "bestTest = 0.9200587289\n",
      "bestIteration = 0\n",
      "\n",
      "Training on fold [2/5]\n",
      "\n",
      "bestTest = 0.9435200207\n",
      "bestIteration = 0\n",
      "\n",
      "Training on fold [3/5]\n",
      "\n",
      "bestTest = 0.9416396579\n",
      "bestIteration = 0\n",
      "\n",
      "Training on fold [4/5]\n",
      "\n",
      "bestTest = 0.9145605474\n",
      "bestIteration = 0\n",
      "\n",
      "f1-score mean value: 0.9275897974105337\n",
      "f1-score STD value: 0    0.003454\n",
      "1    0.003454\n",
      "2    0.003454\n",
      "3    0.003454\n",
      "4    0.003454\n",
      "5    0.003454\n",
      "6    0.003454\n",
      "7    0.003454\n",
      "8    0.003454\n",
      "9    0.003454\n",
      "Name: train-TotalF1-std, dtype: float64\n",
      "========================================\n"
     ]
    },
    {
     "data": {
      "application/vnd.jupyter.widget-view+json": {
       "model_id": "771f71c10a4c451498c451bc53a94aad",
       "version_major": 2,
       "version_minor": 0
      },
      "text/plain": [
       "MetricVisualizer(layout=Layout(align_self='stretch', height='500px'))"
      ]
     },
     "metadata": {},
     "output_type": "display_data"
    },
    {
     "name": "stdout",
     "output_type": "stream",
     "text": [
      "Training on fold [0/5]\n",
      "\n",
      "bestTest = 0.9182596482\n",
      "bestIteration = 0\n",
      "\n",
      "Training on fold [1/5]\n",
      "\n",
      "bestTest = 0.9200587289\n",
      "bestIteration = 0\n",
      "\n",
      "Training on fold [2/5]\n",
      "\n",
      "bestTest = 0.9435200207\n",
      "bestIteration = 0\n",
      "\n",
      "Training on fold [3/5]\n",
      "\n",
      "bestTest = 0.9416396579\n",
      "bestIteration = 0\n",
      "\n",
      "Training on fold [4/5]\n",
      "\n",
      "bestTest = 0.9145605474\n",
      "bestIteration = 0\n",
      "\n",
      "f1-score mean value: 0.9275897974105337\n",
      "f1-score STD value: 0    0.003454\n",
      "1    0.003454\n",
      "2    0.003454\n",
      "3    0.003454\n",
      "4    0.003454\n",
      "5    0.003454\n",
      "6    0.003454\n",
      "7    0.003454\n",
      "8    0.003454\n",
      "9    0.003454\n",
      "Name: train-TotalF1-std, dtype: float64\n",
      "========================================\n",
      "0:\tlearn: 0.3926823\ttotal: 2.95ms\tremaining: 26.6ms\n",
      "1:\tlearn: 0.2720485\ttotal: 5.22ms\tremaining: 20.9ms\n",
      "2:\tlearn: 0.2156023\ttotal: 7.72ms\tremaining: 18ms\n",
      "3:\tlearn: 0.1859269\ttotal: 10.2ms\tremaining: 15.3ms\n",
      "4:\tlearn: 0.1682949\ttotal: 13ms\tremaining: 13ms\n",
      "5:\tlearn: 0.1564363\ttotal: 16.1ms\tremaining: 10.7ms\n",
      "6:\tlearn: 0.1512177\ttotal: 18.6ms\tremaining: 7.99ms\n",
      "7:\tlearn: 0.1452316\ttotal: 21.5ms\tremaining: 5.38ms\n",
      "8:\tlearn: 0.1419798\ttotal: 24.6ms\tremaining: 2.73ms\n",
      "9:\tlearn: 0.1390472\ttotal: 27.2ms\tremaining: 0us\n",
      "Catboost test Accuracy: 0.9500978473581213\n",
      "Catboost test F1 Score\n",
      ":               precision    recall  f1-score   support\n",
      "\n",
      "           0       0.95      1.00      0.97       972\n",
      "           1       0.00      0.00      0.00        50\n",
      "\n",
      "    accuracy                           0.95      1022\n",
      "   macro avg       0.48      0.50      0.49      1022\n",
      "weighted avg       0.90      0.95      0.93      1022\n",
      "\n"
     ]
    },
    {
     "data": {
      "image/png": "[encoded data removed]",
      "text/plain": [
       "<Figure size 1700x1000 with 1 Axes>"
      ]
     },
     "metadata": {},
     "output_type": "display_data"
    }
   ],
   "source": [
    "catboost_flow(stroke_X_train, stroke_X_test, stroke_y_train, stroke_y_test)"
   ]
  },
  {
   "cell_type": "code",
   "execution_count": 15,
   "id": "e0d87f69",
   "metadata": {},
   "outputs": [
    {
     "name": "stdout",
     "output_type": "stream",
     "text": [
      "accuracy mean value: 0.9417823241766143\n",
      "accuracy STD value: 0.0035700635488983994\n",
      "========================================\n",
      "accuracy mean value: 0.9513213720696102\n",
      "accuracy STD value: 0.0007042406225619488\n",
      "========================================\n",
      "accuracy mean value: 0.9488745865094206\n",
      "accuracy STD value: 0.0027796432544667715\n",
      "========================================\n",
      "accuracy mean value: 0.9510762740303946\n",
      "accuracy STD value: 4.794093676592226e-05\n",
      "========================================\n",
      "accuracy mean value: 0.9508317752528885\n",
      "accuracy STD value: 0.0007270444985034001\n",
      "========================================\n",
      "accuracy mean value: 0.9513213720696102\n",
      "accuracy STD value: 0.0007042406225619488\n",
      "========================================\n",
      "Knn test Accuracy: 0.9500978473581213\n",
      "Knn test F1 Score\n",
      ":               precision    recall  f1-score   support\n",
      "\n",
      "           0       0.95      1.00      0.97       972\n",
      "           1       0.00      0.00      0.00        50\n",
      "\n",
      "    accuracy                           0.95      1022\n",
      "   macro avg       0.48      0.50      0.49      1022\n",
      "weighted avg       0.90      0.95      0.93      1022\n",
      "\n"
     ]
    }
   ],
   "source": [
    "knn_flow(stroke_X_train, stroke_X_test, stroke_y_train, stroke_y_test)"
   ]
  },
  {
   "cell_type": "code",
   "execution_count": 16,
   "id": "28f87b3b",
   "metadata": {},
   "outputs": [
    {
     "name": "stderr",
     "output_type": "stream",
     "text": [
      "C:\\Users\\rinok\\anaconda3\\Lib\\site-packages\\sklearn\\svm\\_base.py:1242: ConvergenceWarning: Liblinear failed to converge, increase the number of iterations.\n",
      "  warnings.warn(\n",
      "C:\\Users\\rinok\\anaconda3\\Lib\\site-packages\\sklearn\\svm\\_base.py:1242: ConvergenceWarning: Liblinear failed to converge, increase the number of iterations.\n",
      "  warnings.warn(\n"
     ]
    },
    {
     "name": "stdout",
     "output_type": "stream",
     "text": [
      "accuracy mean value: 0.9513213720696102\n",
      "accuracy STD value: 0.0013005952093199742\n",
      "========================================\n",
      "accuracy mean value: 0.9515658708471163\n",
      "accuracy STD value: 0.0009622062579308423\n",
      "========================================\n"
     ]
    },
    {
     "name": "stderr",
     "output_type": "stream",
     "text": [
      "C:\\Users\\rinok\\anaconda3\\Lib\\site-packages\\sklearn\\svm\\_base.py:1242: ConvergenceWarning: Liblinear failed to converge, increase the number of iterations.\n",
      "  warnings.warn(\n"
     ]
    },
    {
     "name": "stdout",
     "output_type": "stream",
     "text": [
      "accuracy mean value: 0.9513213720696102\n",
      "accuracy STD value: 0.0007042406225619488\n",
      "========================================\n",
      "accuracy mean value: 0.9513213720696102\n",
      "accuracy STD value: 0.0007042406225619488\n",
      "========================================\n"
     ]
    },
    {
     "name": "stderr",
     "output_type": "stream",
     "text": [
      "C:\\Users\\rinok\\anaconda3\\Lib\\site-packages\\sklearn\\svm\\_base.py:1242: ConvergenceWarning: Liblinear failed to converge, increase the number of iterations.\n",
      "  warnings.warn(\n",
      "C:\\Users\\rinok\\anaconda3\\Lib\\site-packages\\sklearn\\svm\\_base.py:1242: ConvergenceWarning: Liblinear failed to converge, increase the number of iterations.\n",
      "  warnings.warn(\n"
     ]
    },
    {
     "name": "stdout",
     "output_type": "stream",
     "text": [
      "accuracy mean value: 0.9513213720696102\n",
      "accuracy STD value: 0.0013005952093199742\n",
      "========================================\n",
      "accuracy mean value: 0.9513213720696102\n",
      "accuracy STD value: 0.0007042406225619488\n",
      "========================================\n",
      "accuracy mean value: 0.9510768732921042\n",
      "accuracy STD value: 0.001068691988258203\n",
      "========================================\n",
      "accuracy mean value: 0.9515658708471163\n",
      "accuracy STD value: 0.0009622062579308423\n",
      "========================================\n",
      "accuracy mean value: 0.9515658708471163\n",
      "accuracy STD value: 0.0009622062579308423\n",
      "========================================\n",
      "LogisticRegression test Accuracy: 0.9510763209393346\n",
      "LogisticRegression test F1 Score\n",
      ":               precision    recall  f1-score   support\n",
      "\n",
      "           0       0.95      1.00      0.97       972\n",
      "           1       0.00      0.00      0.00        50\n",
      "\n",
      "    accuracy                           0.95      1022\n",
      "   macro avg       0.48      0.50      0.49      1022\n",
      "weighted avg       0.90      0.95      0.93      1022\n",
      "\n"
     ]
    },
    {
     "name": "stderr",
     "output_type": "stream",
     "text": [
      "C:\\Users\\rinok\\anaconda3\\Lib\\site-packages\\sklearn\\metrics\\_classification.py:1469: UndefinedMetricWarning: Precision and F-score are ill-defined and being set to 0.0 in labels with no predicted samples. Use `zero_division` parameter to control this behavior.\n",
      "  _warn_prf(average, modifier, msg_start, len(result))\n",
      "C:\\Users\\rinok\\anaconda3\\Lib\\site-packages\\sklearn\\metrics\\_classification.py:1469: UndefinedMetricWarning: Precision and F-score are ill-defined and being set to 0.0 in labels with no predicted samples. Use `zero_division` parameter to control this behavior.\n",
      "  _warn_prf(average, modifier, msg_start, len(result))\n",
      "C:\\Users\\rinok\\anaconda3\\Lib\\site-packages\\sklearn\\metrics\\_classification.py:1469: UndefinedMetricWarning: Precision and F-score are ill-defined and being set to 0.0 in labels with no predicted samples. Use `zero_division` parameter to control this behavior.\n",
      "  _warn_prf(average, modifier, msg_start, len(result))\n"
     ]
    }
   ],
   "source": [
    "logreg_flow(stroke_X_train, stroke_X_test, stroke_y_train, stroke_y_test)"
   ]
  },
  {
   "cell_type": "code",
   "execution_count": 17,
   "id": "adc05831",
   "metadata": {},
   "outputs": [],
   "source": [
    "# Let's split our datasets to train and test subsets\n",
    "water_potability_target = water_potability_data['Potability']\n",
    "water_potability_data = water_potability_data.drop(columns = ['Potability'], axis = 1)\n",
    "\n",
    "water_potability_X_train, water_potability_X_test, water_potability_y_train, water_potability_y_test = \\\n",
    "    train_test_split(water_potability_data, water_potability_target, test_size=.2)"
   ]
  },
  {
   "cell_type": "code",
   "execution_count": 18,
   "id": "915b0106",
   "metadata": {},
   "outputs": [
    {
     "name": "stdout",
     "output_type": "stream",
     "text": [
      "accuracy mean value: 0.6221374045801527\n",
      "accuracy STD value: 0.016012348827025222\n",
      "========================================\n",
      "accuracy mean value: 0.6293893129770992\n",
      "accuracy STD value: 0.01767303343937437\n",
      "========================================\n",
      "accuracy mean value: 0.6312977099236641\n",
      "accuracy STD value: 0.0175073968567629\n",
      "========================================\n",
      "accuracy mean value: 0.6248091603053435\n",
      "accuracy STD value: 0.02276038399370316\n",
      "========================================\n",
      "accuracy mean value: 0.6286259541984733\n",
      "accuracy STD value: 0.013364230076344704\n",
      "========================================\n",
      "accuracy mean value: 0.6270992366412214\n",
      "accuracy STD value: 0.011101556925380892\n",
      "========================================\n",
      "accuracy mean value: 0.6381679389312976\n",
      "accuracy STD value: 0.015200234924992286\n",
      "========================================\n",
      "accuracy mean value: 0.6362595419847328\n",
      "accuracy STD value: 0.009549615269615867\n",
      "========================================\n",
      "accuracy mean value: 0.6396946564885496\n",
      "accuracy STD value: 0.010054915933068294\n",
      "========================================\n",
      "accuracy mean value: 0.6458015267175572\n",
      "accuracy STD value: 0.011101556925380935\n",
      "========================================\n",
      "XgBoost test Accuracy: 0.614329268292683\n",
      "XgBoost test F1 Score\n",
      ":               precision    recall  f1-score   support\n",
      "\n",
      "           0       0.66      0.73      0.69       390\n",
      "           1       0.53      0.45      0.49       266\n",
      "\n",
      "    accuracy                           0.61       656\n",
      "   macro avg       0.59      0.59      0.59       656\n",
      "weighted avg       0.61      0.61      0.61       656\n",
      "\n"
     ]
    },
    {
     "data": {
      "image/png": "[encoded data removed]",
      "text/plain": [
       "<Figure size 1700x1000 with 1 Axes>"
      ]
     },
     "metadata": {},
     "output_type": "display_data"
    }
   ],
   "source": [
    "xGboost_flow(water_potability_X_train, water_potability_X_test, water_potability_y_train, water_potability_y_test)"
   ]
  },
  {
   "cell_type": "code",
   "execution_count": 19,
   "id": "30c67ed9",
   "metadata": {},
   "outputs": [
    {
     "data": {
      "application/vnd.jupyter.widget-view+json": {
       "model_id": "818953fd3a7c4b24b4b88b2559ea3942",
       "version_major": 2,
       "version_minor": 0
      },
      "text/plain": [
       "MetricVisualizer(layout=Layout(align_self='stretch', height='500px'))"
      ]
     },
     "metadata": {},
     "output_type": "display_data"
    },
    {
     "name": "stdout",
     "output_type": "stream",
     "text": [
      "Training on fold [0/5]\n",
      "\n",
      "bestTest = 0.6232780117\n",
      "bestIteration = 8\n",
      "\n",
      "Training on fold [1/5]\n",
      "\n",
      "bestTest = 0.6135634812\n",
      "bestIteration = 5\n",
      "\n",
      "Training on fold [2/5]\n",
      "\n",
      "bestTest = 0.618127411\n",
      "bestIteration = 8\n",
      "\n",
      "Training on fold [3/5]\n",
      "\n",
      "bestTest = 0.6438477785\n",
      "bestIteration = 9\n",
      "\n",
      "Training on fold [4/5]\n",
      "\n",
      "bestTest = 0.6105024644\n",
      "bestIteration = 7\n",
      "\n",
      "f1-score mean value: 0.6069880863026755\n",
      "f1-score STD value: 0    0.031932\n",
      "1    0.022342\n",
      "2    0.010386\n",
      "3    0.018442\n",
      "4    0.017559\n",
      "5    0.011894\n",
      "6    0.010423\n",
      "7    0.008413\n",
      "8    0.003302\n",
      "9    0.009122\n",
      "Name: train-TotalF1-std, dtype: float64\n",
      "========================================\n"
     ]
    },
    {
     "data": {
      "application/vnd.jupyter.widget-view+json": {
       "model_id": "ce1945c3da5f4a429a6d6003d2b5c544",
       "version_major": 2,
       "version_minor": 0
      },
      "text/plain": [
       "MetricVisualizer(layout=Layout(align_self='stretch', height='500px'))"
      ]
     },
     "metadata": {},
     "output_type": "display_data"
    },
    {
     "name": "stdout",
     "output_type": "stream",
     "text": [
      "Training on fold [0/5]\n",
      "\n",
      "bestTest = 0.6119913063\n",
      "bestIteration = 4\n",
      "\n",
      "Training on fold [1/5]\n",
      "\n",
      "bestTest = 0.5750284775\n",
      "bestIteration = 8\n",
      "\n",
      "Training on fold [2/5]\n",
      "\n",
      "bestTest = 0.6196785085\n",
      "bestIteration = 8\n",
      "\n",
      "Training on fold [3/5]\n",
      "\n",
      "bestTest = 0.6365201171\n",
      "bestIteration = 7\n",
      "\n",
      "Training on fold [4/5]\n",
      "\n",
      "bestTest = 0.6234139674\n",
      "bestIteration = 7\n",
      "\n",
      "f1-score mean value: 0.6032166358996522\n",
      "f1-score STD value: 0    0.031932\n",
      "1    0.020004\n",
      "2    0.021323\n",
      "3    0.018704\n",
      "4    0.014378\n",
      "5    0.015359\n",
      "6    0.018887\n",
      "7    0.009607\n",
      "8    0.011530\n",
      "9    0.008304\n",
      "Name: train-TotalF1-std, dtype: float64\n",
      "========================================\n"
     ]
    },
    {
     "data": {
      "application/vnd.jupyter.widget-view+json": {
       "model_id": "4b46eaa6adfc4287a470aaed90e28142",
       "version_major": 2,
       "version_minor": 0
      },
      "text/plain": [
       "MetricVisualizer(layout=Layout(align_self='stretch', height='500px'))"
      ]
     },
     "metadata": {},
     "output_type": "display_data"
    },
    {
     "name": "stdout",
     "output_type": "stream",
     "text": [
      "Training on fold [0/5]\n",
      "\n",
      "bestTest = 0.6198053091\n",
      "bestIteration = 9\n",
      "\n",
      "Training on fold [1/5]\n",
      "\n",
      "bestTest = 0.5982130604\n",
      "bestIteration = 8\n",
      "\n",
      "Training on fold [2/5]\n",
      "\n",
      "bestTest = 0.6271230916\n",
      "bestIteration = 7\n",
      "\n",
      "Training on fold [3/5]\n",
      "\n",
      "bestTest = 0.6266198823\n",
      "bestIteration = 4\n",
      "\n",
      "Training on fold [4/5]\n",
      "\n",
      "bestTest = 0.6165605401\n",
      "bestIteration = 9\n",
      "\n",
      "f1-score mean value: 0.5988146423026699\n",
      "f1-score STD value: 0    0.031932\n",
      "1    0.017593\n",
      "2    0.017327\n",
      "3    0.012308\n",
      "4    0.011825\n",
      "5    0.006877\n",
      "6    0.006875\n",
      "7    0.005043\n",
      "8    0.004651\n",
      "9    0.004743\n",
      "Name: train-TotalF1-std, dtype: float64\n",
      "========================================\n"
     ]
    },
    {
     "data": {
      "application/vnd.jupyter.widget-view+json": {
       "model_id": "a037ee2a851b4de0a2451e49e81cfd32",
       "version_major": 2,
       "version_minor": 0
      },
      "text/plain": [
       "MetricVisualizer(layout=Layout(align_self='stretch', height='500px'))"
      ]
     },
     "metadata": {},
     "output_type": "display_data"
    },
    {
     "name": "stdout",
     "output_type": "stream",
     "text": [
      "Training on fold [0/5]\n",
      "\n",
      "bestTest = 0.6045001304\n",
      "bestIteration = 9\n",
      "\n",
      "Training on fold [1/5]\n",
      "\n",
      "bestTest = 0.5893933307\n",
      "bestIteration = 9\n",
      "\n",
      "Training on fold [2/5]\n",
      "\n",
      "bestTest = 0.6249536206\n",
      "bestIteration = 9\n",
      "\n",
      "Training on fold [3/5]\n",
      "\n",
      "bestTest = 0.6393523094\n",
      "bestIteration = 6\n",
      "\n",
      "Training on fold [4/5]\n",
      "\n",
      "bestTest = 0.6253190344\n",
      "bestIteration = 6\n",
      "\n",
      "f1-score mean value: 0.5961668988473364\n",
      "f1-score STD value: 0    0.031932\n",
      "1    0.019638\n",
      "2    0.018544\n",
      "3    0.015460\n",
      "4    0.012784\n",
      "5    0.011225\n",
      "6    0.012640\n",
      "7    0.013089\n",
      "8    0.010175\n",
      "9    0.012163\n",
      "Name: train-TotalF1-std, dtype: float64\n",
      "========================================\n"
     ]
    },
    {
     "data": {
      "application/vnd.jupyter.widget-view+json": {
       "model_id": "a434568ba3704c4796535830dd243138",
       "version_major": 2,
       "version_minor": 0
      },
      "text/plain": [
       "MetricVisualizer(layout=Layout(align_self='stretch', height='500px'))"
      ]
     },
     "metadata": {},
     "output_type": "display_data"
    },
    {
     "name": "stdout",
     "output_type": "stream",
     "text": [
      "Training on fold [0/5]\n",
      "\n",
      "bestTest = 0.5799465071\n",
      "bestIteration = 2\n",
      "\n",
      "Training on fold [1/5]\n",
      "\n",
      "bestTest = 0.5724986026\n",
      "bestIteration = 3\n",
      "\n",
      "Training on fold [2/5]\n",
      "\n",
      "bestTest = 0.6119788981\n",
      "bestIteration = 7\n",
      "\n",
      "Training on fold [3/5]\n",
      "\n",
      "bestTest = 0.6267167887\n",
      "bestIteration = 6\n",
      "\n",
      "Training on fold [4/5]\n",
      "\n",
      "bestTest = 0.6217239413\n",
      "bestIteration = 5\n",
      "\n",
      "f1-score mean value: 0.59391030081853\n",
      "f1-score STD value: 0    0.031932\n",
      "1    0.017712\n",
      "2    0.020720\n",
      "3    0.017504\n",
      "4    0.013388\n",
      "5    0.009614\n",
      "6    0.013407\n",
      "7    0.011675\n",
      "8    0.008772\n",
      "9    0.007705\n",
      "Name: train-TotalF1-std, dtype: float64\n",
      "========================================\n"
     ]
    },
    {
     "data": {
      "application/vnd.jupyter.widget-view+json": {
       "model_id": "1cb5a670d9394ae08296828627b0ef21",
       "version_major": 2,
       "version_minor": 0
      },
      "text/plain": [
       "MetricVisualizer(layout=Layout(align_self='stretch', height='500px'))"
      ]
     },
     "metadata": {},
     "output_type": "display_data"
    },
    {
     "name": "stdout",
     "output_type": "stream",
     "text": [
      "Training on fold [0/5]\n",
      "\n",
      "bestTest = 0.6089362391\n",
      "bestIteration = 9\n",
      "\n",
      "Training on fold [1/5]\n",
      "\n",
      "bestTest = 0.5856007004\n",
      "bestIteration = 6\n",
      "\n",
      "Training on fold [2/5]\n",
      "\n",
      "bestTest = 0.5988160557\n",
      "bestIteration = 9\n",
      "\n",
      "Training on fold [3/5]\n",
      "\n",
      "bestTest = 0.6310125896\n",
      "bestIteration = 9\n",
      "\n",
      "Training on fold [4/5]\n",
      "\n",
      "bestTest = 0.6370612446\n",
      "bestIteration = 9\n",
      "\n",
      "f1-score mean value: 0.5910235351931453\n",
      "f1-score STD value: 0    0.031932\n",
      "1    0.021979\n",
      "2    0.016141\n",
      "3    0.017378\n",
      "4    0.017363\n",
      "5    0.012893\n",
      "6    0.017611\n",
      "7    0.015829\n",
      "8    0.010423\n",
      "9    0.009675\n",
      "Name: train-TotalF1-std, dtype: float64\n",
      "========================================\n"
     ]
    },
    {
     "data": {
      "application/vnd.jupyter.widget-view+json": {
       "model_id": "6444024ac70b470abd569a93912ddea1",
       "version_major": 2,
       "version_minor": 0
      },
      "text/plain": [
       "MetricVisualizer(layout=Layout(align_self='stretch', height='500px'))"
      ]
     },
     "metadata": {},
     "output_type": "display_data"
    },
    {
     "name": "stdout",
     "output_type": "stream",
     "text": [
      "Training on fold [0/5]\n",
      "\n",
      "bestTest = 0.5893942657\n",
      "bestIteration = 3\n",
      "\n",
      "Training on fold [1/5]\n",
      "\n",
      "bestTest = 0.5729888432\n",
      "bestIteration = 9\n",
      "\n",
      "Training on fold [2/5]\n",
      "\n",
      "bestTest = 0.614916087\n",
      "bestIteration = 9\n",
      "\n",
      "Training on fold [3/5]\n",
      "\n",
      "bestTest = 0.614916087\n",
      "bestIteration = 5\n",
      "\n",
      "Training on fold [4/5]\n",
      "\n",
      "bestTest = 0.608094369\n",
      "bestIteration = 4\n",
      "\n",
      "f1-score mean value: 0.5813049910644338\n",
      "f1-score STD value: 0    0.031932\n",
      "1    0.021840\n",
      "2    0.016188\n",
      "3    0.022652\n",
      "4    0.016262\n",
      "5    0.014676\n",
      "6    0.013207\n",
      "7    0.012181\n",
      "8    0.011786\n",
      "9    0.012881\n",
      "Name: train-TotalF1-std, dtype: float64\n",
      "========================================\n"
     ]
    },
    {
     "data": {
      "application/vnd.jupyter.widget-view+json": {
       "model_id": "4c62073d3b7c46349d7d4424b7d04a24",
       "version_major": 2,
       "version_minor": 0
      },
      "text/plain": [
       "MetricVisualizer(layout=Layout(align_self='stretch', height='500px'))"
      ]
     },
     "metadata": {},
     "output_type": "display_data"
    },
    {
     "name": "stdout",
     "output_type": "stream",
     "text": [
      "Training on fold [0/5]\n",
      "\n",
      "bestTest = 0.5846040579\n",
      "bestIteration = 6\n",
      "\n",
      "Training on fold [1/5]\n",
      "\n",
      "bestTest = 0.5562884515\n",
      "bestIteration = 9\n",
      "\n",
      "Training on fold [2/5]\n",
      "\n",
      "bestTest = 0.5978840242\n",
      "bestIteration = 9\n",
      "\n",
      "Training on fold [3/5]\n",
      "\n",
      "bestTest = 0.6046492287\n",
      "bestIteration = 8\n",
      "\n",
      "Training on fold [4/5]\n",
      "\n",
      "bestTest = 0.6026797252\n",
      "bestIteration = 7\n",
      "\n",
      "f1-score mean value: 0.5800353737013687\n",
      "f1-score STD value: 0    0.031932\n",
      "1    0.023250\n",
      "2    0.024812\n",
      "3    0.024133\n",
      "4    0.016341\n",
      "5    0.017128\n",
      "6    0.015521\n",
      "7    0.014378\n",
      "8    0.015984\n",
      "9    0.017457\n",
      "Name: train-TotalF1-std, dtype: float64\n",
      "========================================\n"
     ]
    },
    {
     "data": {
      "application/vnd.jupyter.widget-view+json": {
       "model_id": "f21a4f7d4be444e19e088ba4e6081a74",
       "version_major": 2,
       "version_minor": 0
      },
      "text/plain": [
       "MetricVisualizer(layout=Layout(align_self='stretch', height='500px'))"
      ]
     },
     "metadata": {},
     "output_type": "display_data"
    },
    {
     "name": "stdout",
     "output_type": "stream",
     "text": [
      "Training on fold [0/5]\n",
      "\n",
      "bestTest = 0.5756853166\n",
      "bestIteration = 9\n",
      "\n",
      "Training on fold [1/5]\n",
      "\n",
      "bestTest = 0.5436433707\n",
      "bestIteration = 0\n",
      "\n",
      "Training on fold [2/5]\n",
      "\n",
      "bestTest = 0.6092732143\n",
      "bestIteration = 7\n",
      "\n",
      "Training on fold [3/5]\n",
      "\n",
      "bestTest = 0.5734181574\n",
      "bestIteration = 6\n",
      "\n",
      "Training on fold [4/5]\n",
      "\n",
      "bestTest = 0.6123144883\n",
      "bestIteration = 7\n",
      "\n",
      "f1-score mean value: 0.5767722318341206\n",
      "f1-score STD value: 0    0.031932\n",
      "1    0.021021\n",
      "2    0.026257\n",
      "3    0.017791\n",
      "4    0.017526\n",
      "5    0.017255\n",
      "6    0.018182\n",
      "7    0.020078\n",
      "8    0.015817\n",
      "9    0.017247\n",
      "Name: train-TotalF1-std, dtype: float64\n",
      "========================================\n"
     ]
    },
    {
     "data": {
      "application/vnd.jupyter.widget-view+json": {
       "model_id": "7d7cfb689572442d825f13fbd3d89a0f",
       "version_major": 2,
       "version_minor": 0
      },
      "text/plain": [
       "MetricVisualizer(layout=Layout(align_self='stretch', height='500px'))"
      ]
     },
     "metadata": {},
     "output_type": "display_data"
    },
    {
     "name": "stdout",
     "output_type": "stream",
     "text": [
      "Training on fold [0/5]\n",
      "\n",
      "bestTest = 0.5599630241\n",
      "bestIteration = 6\n",
      "\n",
      "Training on fold [1/5]\n",
      "\n",
      "bestTest = 0.5436433707\n",
      "bestIteration = 0\n",
      "\n",
      "Training on fold [2/5]\n",
      "\n",
      "bestTest = 0.5823391096\n",
      "bestIteration = 7\n",
      "\n",
      "Training on fold [3/5]\n",
      "\n",
      "bestTest = 0.5664155041\n",
      "bestIteration = 9\n",
      "\n",
      "Training on fold [4/5]\n",
      "\n",
      "bestTest = 0.5949923475\n",
      "bestIteration = 5\n",
      "\n",
      "f1-score mean value: 0.5708256730954812\n",
      "f1-score STD value: 0    0.031932\n",
      "1    0.022090\n",
      "2    0.020718\n",
      "3    0.016950\n",
      "4    0.007689\n",
      "5    0.012882\n",
      "6    0.017606\n",
      "7    0.020513\n",
      "8    0.016899\n",
      "9    0.014264\n",
      "Name: train-TotalF1-std, dtype: float64\n",
      "========================================\n",
      "0:\tlearn: 0.6502892\ttotal: 2.04ms\tremaining: 18.3ms\n",
      "1:\tlearn: 0.6256034\ttotal: 3.79ms\tremaining: 15.2ms\n",
      "2:\tlearn: 0.6123650\ttotal: 5.52ms\tremaining: 12.9ms\n",
      "3:\tlearn: 0.5990435\ttotal: 7.38ms\tremaining: 11.1ms\n",
      "4:\tlearn: 0.5878479\ttotal: 9.17ms\tremaining: 9.17ms\n",
      "5:\tlearn: 0.5758474\ttotal: 11ms\tremaining: 7.32ms\n",
      "6:\tlearn: 0.5703748\ttotal: 13.3ms\tremaining: 5.71ms\n",
      "7:\tlearn: 0.5608888\ttotal: 15.3ms\tremaining: 3.81ms\n",
      "8:\tlearn: 0.5546243\ttotal: 17.2ms\tremaining: 1.91ms\n",
      "9:\tlearn: 0.5460752\ttotal: 19ms\tremaining: 0us\n",
      "Catboost test Accuracy: 0.6585365853658537\n",
      "Catboost test F1 Score\n",
      ":               precision    recall  f1-score   support\n",
      "\n",
      "           0       0.66      0.89      0.76       390\n",
      "           1       0.67      0.31      0.43       266\n",
      "\n",
      "    accuracy                           0.66       656\n",
      "   macro avg       0.66      0.60      0.59       656\n",
      "weighted avg       0.66      0.66      0.62       656\n",
      "\n"
     ]
    },
    {
     "data": {
      "image/png": "[encoded data removed]",
      "text/plain": [
       "<Figure size 1700x1000 with 1 Axes>"
      ]
     },
     "metadata": {},
     "output_type": "display_data"
    }
   ],
   "source": [
    "catboost_flow(water_potability_X_train, water_potability_X_test, water_potability_y_train, water_potability_y_test)"
   ]
  },
  {
   "cell_type": "code",
   "execution_count": 20,
   "id": "8fb9a5e1",
   "metadata": {},
   "outputs": [
    {
     "name": "stdout",
     "output_type": "stream",
     "text": [
      "accuracy mean value: 0.5583969465648856\n",
      "accuracy STD value: 0.027206539522437765\n",
      "========================================\n",
      "accuracy mean value: 0.5854961832061069\n",
      "accuracy STD value: 0.022268629230251653\n",
      "========================================\n",
      "accuracy mean value: 0.5625954198473282\n",
      "accuracy STD value: 0.031204478528198017\n",
      "========================================\n",
      "accuracy mean value: 0.5870229007633587\n",
      "accuracy STD value: 0.0210996564291378\n",
      "========================================\n",
      "accuracy mean value: 0.5633587786259543\n",
      "accuracy STD value: 0.023969951859706226\n",
      "========================================\n",
      "accuracy mean value: 0.5854961832061069\n",
      "accuracy STD value: 0.02146925360370265\n",
      "========================================\n",
      "Knn test Accuracy: 0.5838414634146342\n",
      "Knn test F1 Score\n",
      ":               precision    recall  f1-score   support\n",
      "\n",
      "           0       0.61      0.86      0.71       390\n",
      "           1       0.47      0.18      0.26       266\n",
      "\n",
      "    accuracy                           0.58       656\n",
      "   macro avg       0.54      0.52      0.48       656\n",
      "weighted avg       0.55      0.58      0.53       656\n",
      "\n"
     ]
    }
   ],
   "source": [
    "knn_flow(water_potability_X_train, water_potability_X_test, water_potability_y_train, water_potability_y_test)"
   ]
  },
  {
   "cell_type": "code",
   "execution_count": 21,
   "id": "b322754d",
   "metadata": {},
   "outputs": [
    {
     "name": "stdout",
     "output_type": "stream",
     "text": [
      "accuracy mean value: 0.6141221374045801\n",
      "accuracy STD value: 0.0011450381679389164\n",
      "========================================\n",
      "accuracy mean value: 0.6141221374045801\n",
      "accuracy STD value: 0.0011450381679389164\n",
      "========================================\n",
      "accuracy mean value: 0.6141221374045801\n",
      "accuracy STD value: 0.0011450381679389164\n",
      "========================================\n",
      "accuracy mean value: 0.6141221374045801\n",
      "accuracy STD value: 0.0011450381679389164\n",
      "========================================\n",
      "accuracy mean value: 0.6141221374045801\n",
      "accuracy STD value: 0.0011450381679389164\n",
      "========================================\n",
      "accuracy mean value: 0.6145038167938931\n",
      "accuracy STD value: 0.0\n",
      "========================================\n",
      "accuracy mean value: 0.6141221374045801\n",
      "accuracy STD value: 0.0011450381679389164\n",
      "========================================\n",
      "accuracy mean value: 0.6141221374045801\n",
      "accuracy STD value: 0.0011450381679389164\n",
      "========================================\n",
      "accuracy mean value: 0.6141221374045801\n",
      "accuracy STD value: 0.0011450381679389164\n",
      "========================================\n",
      "LogisticRegression test Accuracy: 0.5929878048780488\n",
      "LogisticRegression test F1 Score\n",
      ":               precision    recall  f1-score   support\n",
      "\n",
      "           0       0.59      1.00      0.74       390\n",
      "           1       0.00      0.00      0.00       266\n",
      "\n",
      "    accuracy                           0.59       656\n",
      "   macro avg       0.30      0.50      0.37       656\n",
      "weighted avg       0.35      0.59      0.44       656\n",
      "\n"
     ]
    }
   ],
   "source": [
    "logreg_flow(water_potability_X_train, water_potability_X_test, water_potability_y_train, water_potability_y_test)"
   ]
  },
  {
   "cell_type": "code",
   "execution_count": 22,
   "id": "2eec6210",
   "metadata": {},
   "outputs": [],
   "source": [
    "# Let's split our datasets to train and test subsets\n",
    "binarizer = Binarizer(threshold=5)\n",
    "le = LabelEncoder()\n",
    "\n",
    "wine_quality_target = binarizer.transform(wine_quality_data['quality'].values.reshape(-1,1))\n",
    "wine_quality_data['Type'] = le.fit_transform(wine_quality_data['Type'])\n",
    "\n",
    "wine_quality_data = wine_quality_data.drop(columns = ['quality'], axis = 1)\n",
    "wine_quality_X_train, wine_quality_X_test, wine_quality_y_train, wine_quality_y_test = \\\n",
    "    train_test_split(wine_quality_data, wine_quality_target, test_size=.2, random_state=132)"
   ]
  },
  {
   "cell_type": "code",
   "execution_count": 23,
   "id": "1e094ff1",
   "metadata": {},
   "outputs": [
    {
     "name": "stdout",
     "output_type": "stream",
     "text": [
      "accuracy mean value: 0.9934199540786361\n",
      "accuracy STD value: 0.0017142181122612014\n",
      "========================================\n",
      "accuracy mean value: 0.9936508787330542\n",
      "accuracy STD value: 0.0014704094776282848\n",
      "========================================\n",
      "accuracy mean value: 0.992727335590286\n",
      "accuracy STD value: 0.0013300365862361021\n",
      "========================================\n",
      "accuracy mean value: 0.9931506493335347\n",
      "accuracy STD value: 0.0006623689312373136\n",
      "========================================\n",
      "accuracy mean value: 0.9931506789478022\n",
      "accuracy STD value: 0.0012562923789818873\n",
      "========================================\n",
      "accuracy mean value: 0.9926120028254972\n",
      "accuracy STD value: 0.001189494185456792\n",
      "========================================\n",
      "accuracy mean value: 0.9904185850850851\n",
      "accuracy STD value: 0.0018432515168578705\n",
      "========================================\n",
      "accuracy mean value: 0.9850316461764315\n",
      "accuracy STD value: 0.00239432407494091\n",
      "========================================\n",
      "accuracy mean value: 0.9662924040218248\n",
      "accuracy STD value: 0.0035834660102352267\n",
      "========================================\n",
      "accuracy mean value: 0.9151531542563512\n",
      "accuracy STD value: 0.005482777910220644\n",
      "========================================\n",
      "XgBoost test Accuracy: 0.9972294905340927\n",
      "XgBoost test F1 Score\n",
      ":               precision    recall  f1-score   support\n",
      "\n",
      "           0       1.00      1.00      1.00      2443\n",
      "           1       1.00      1.00      1.00      4054\n",
      "\n",
      "    accuracy                           1.00      6497\n",
      "   macro avg       1.00      1.00      1.00      6497\n",
      "weighted avg       1.00      1.00      1.00      6497\n",
      "\n"
     ]
    },
    {
     "data": {
      "image/png": "[encoded data removed]",
      "text/plain": [
       "<Figure size 1700x1000 with 1 Axes>"
      ]
     },
     "metadata": {},
     "output_type": "display_data"
    }
   ],
   "source": [
    "xGboost_flow(wine_quality_X_train, wine_quality_X_test, wine_quality_y_train, wine_quality_y_test)"
   ]
  },
  {
   "cell_type": "code",
   "execution_count": 24,
   "id": "ab1c0f50",
   "metadata": {},
   "outputs": [
    {
     "data": {
      "application/vnd.jupyter.widget-view+json": {
       "model_id": "edabb580ee0c4890a2b5bd554b03805a",
       "version_major": 2,
       "version_minor": 0
      },
      "text/plain": [
       "MetricVisualizer(layout=Layout(align_self='stretch', height='500px'))"
      ]
     },
     "metadata": {},
     "output_type": "display_data"
    },
    {
     "name": "stdout",
     "output_type": "stream",
     "text": [
      "Training on fold [0/5]\n",
      "\n",
      "bestTest = 0.78725348\n",
      "bestIteration = 9\n",
      "\n",
      "Training on fold [1/5]\n",
      "\n",
      "bestTest = 0.7935971689\n",
      "bestIteration = 9\n",
      "\n",
      "Training on fold [2/5]\n",
      "\n",
      "bestTest = 0.7980387162\n",
      "bestIteration = 9\n",
      "\n",
      "Training on fold [3/5]\n",
      "\n",
      "bestTest = 0.8006038471\n",
      "bestIteration = 9\n",
      "\n",
      "Training on fold [4/5]\n",
      "\n",
      "bestTest = 0.7923088431\n",
      "bestIteration = 9\n",
      "\n",
      "f1-score mean value: 0.7514218137048239\n",
      "f1-score STD value: 0    0.001979\n",
      "1    0.003902\n",
      "2    0.001490\n",
      "3    0.004924\n",
      "4    0.005470\n",
      "5    0.005294\n",
      "6    0.005828\n",
      "7    0.005098\n",
      "8    0.006094\n",
      "9    0.004636\n",
      "Name: train-TotalF1-std, dtype: float64\n",
      "========================================\n"
     ]
    },
    {
     "data": {
      "application/vnd.jupyter.widget-view+json": {
       "model_id": "4577d832e3f7494fa4d5770884841380",
       "version_major": 2,
       "version_minor": 0
      },
      "text/plain": [
       "MetricVisualizer(layout=Layout(align_self='stretch', height='500px'))"
      ]
     },
     "metadata": {},
     "output_type": "display_data"
    },
    {
     "name": "stdout",
     "output_type": "stream",
     "text": [
      "Training on fold [0/5]\n",
      "\n",
      "bestTest = 0.791007214\n",
      "bestIteration = 9\n",
      "\n",
      "Training on fold [1/5]\n",
      "\n",
      "bestTest = 0.7872392376\n",
      "bestIteration = 9\n",
      "\n",
      "Training on fold [2/5]\n",
      "\n",
      "bestTest = 0.7995292824\n",
      "bestIteration = 9\n",
      "\n",
      "Training on fold [3/5]\n",
      "\n",
      "bestTest = 0.7859518306\n",
      "bestIteration = 9\n",
      "\n",
      "Training on fold [4/5]\n",
      "\n",
      "bestTest = 0.7801982561\n",
      "bestIteration = 9\n",
      "\n",
      "f1-score mean value: 0.750041438310503\n",
      "f1-score STD value: 0    0.001979\n",
      "1    0.003521\n",
      "2    0.001328\n",
      "3    0.001952\n",
      "4    0.003319\n",
      "5    0.004533\n",
      "6    0.004373\n",
      "7    0.003601\n",
      "8    0.003426\n",
      "9    0.003330\n",
      "Name: train-TotalF1-std, dtype: float64\n",
      "========================================\n"
     ]
    },
    {
     "data": {
      "application/vnd.jupyter.widget-view+json": {
       "model_id": "3a0109a923214f36b795c798c686b21c",
       "version_major": 2,
       "version_minor": 0
      },
      "text/plain": [
       "MetricVisualizer(layout=Layout(align_self='stretch', height='500px'))"
      ]
     },
     "metadata": {},
     "output_type": "display_data"
    },
    {
     "name": "stdout",
     "output_type": "stream",
     "text": [
      "Training on fold [0/5]\n",
      "\n",
      "bestTest = 0.7975193725\n",
      "bestIteration = 9\n",
      "\n",
      "Training on fold [1/5]\n",
      "\n",
      "bestTest = 0.7895960273\n",
      "bestIteration = 9\n",
      "\n",
      "Training on fold [2/5]\n",
      "\n",
      "bestTest = 0.7954101473\n",
      "bestIteration = 9\n",
      "\n",
      "Training on fold [3/5]\n",
      "\n",
      "bestTest = 0.7879564633\n",
      "bestIteration = 8\n",
      "\n",
      "Training on fold [4/5]\n",
      "\n",
      "bestTest = 0.7855191634\n",
      "bestIteration = 9\n",
      "\n",
      "f1-score mean value: 0.750555984276648\n",
      "f1-score STD value: 0    0.001979\n",
      "1    0.003302\n",
      "2    0.003969\n",
      "3    0.002461\n",
      "4    0.004561\n",
      "5    0.003214\n",
      "6    0.001764\n",
      "7    0.002369\n",
      "8    0.003200\n",
      "9    0.003563\n",
      "Name: train-TotalF1-std, dtype: float64\n",
      "========================================\n"
     ]
    },
    {
     "data": {
      "application/vnd.jupyter.widget-view+json": {
       "model_id": "199cdc2e2137476d8f9fb7eb34b21e37",
       "version_major": 2,
       "version_minor": 0
      },
      "text/plain": [
       "MetricVisualizer(layout=Layout(align_self='stretch', height='500px'))"
      ]
     },
     "metadata": {},
     "output_type": "display_data"
    },
    {
     "name": "stdout",
     "output_type": "stream",
     "text": [
      "Training on fold [0/5]\n",
      "\n",
      "bestTest = 0.7829536258\n",
      "bestIteration = 8\n",
      "\n",
      "Training on fold [1/5]\n",
      "\n",
      "bestTest = 0.7875982796\n",
      "bestIteration = 9\n",
      "\n",
      "Training on fold [2/5]\n",
      "\n",
      "bestTest = 0.7902872814\n",
      "bestIteration = 9\n",
      "\n",
      "Training on fold [3/5]\n",
      "\n",
      "bestTest = 0.7825394749\n",
      "bestIteration = 9\n",
      "\n",
      "Training on fold [4/5]\n",
      "\n",
      "bestTest = 0.7877730438\n",
      "bestIteration = 9\n",
      "\n",
      "f1-score mean value: 0.7500885489347752\n",
      "f1-score STD value: 0    0.001979\n",
      "1    0.003303\n",
      "2    0.003969\n",
      "3    0.003576\n",
      "4    0.005292\n",
      "5    0.004798\n",
      "6    0.004160\n",
      "7    0.003724\n",
      "8    0.003628\n",
      "9    0.003431\n",
      "Name: train-TotalF1-std, dtype: float64\n",
      "========================================\n"
     ]
    },
    {
     "data": {
      "application/vnd.jupyter.widget-view+json": {
       "model_id": "68bc27786a034a98b976ce1d1c041a8d",
       "version_major": 2,
       "version_minor": 0
      },
      "text/plain": [
       "MetricVisualizer(layout=Layout(align_self='stretch', height='500px'))"
      ]
     },
     "metadata": {},
     "output_type": "display_data"
    },
    {
     "name": "stdout",
     "output_type": "stream",
     "text": [
      "Training on fold [0/5]\n",
      "\n",
      "bestTest = 0.7829588544\n",
      "bestIteration = 8\n",
      "\n",
      "Training on fold [1/5]\n",
      "\n",
      "bestTest = 0.7821179476\n",
      "bestIteration = 9\n",
      "\n",
      "Training on fold [2/5]\n",
      "\n",
      "bestTest = 0.7904372254\n",
      "bestIteration = 9\n",
      "\n",
      "Training on fold [3/5]\n",
      "\n",
      "bestTest = 0.7817278806\n",
      "bestIteration = 8\n",
      "\n",
      "Training on fold [4/5]\n",
      "\n",
      "bestTest = 0.7801982561\n",
      "bestIteration = 9\n",
      "\n",
      "f1-score mean value: 0.7488552583748407\n",
      "f1-score STD value: 0    0.001979\n",
      "1    0.003083\n",
      "2    0.001707\n",
      "3    0.004599\n",
      "4    0.004943\n",
      "5    0.005384\n",
      "6    0.003896\n",
      "7    0.004102\n",
      "8    0.002631\n",
      "9    0.001859\n",
      "Name: train-TotalF1-std, dtype: float64\n",
      "========================================\n"
     ]
    },
    {
     "data": {
      "application/vnd.jupyter.widget-view+json": {
       "model_id": "81e96bbc0a484210bf53e7b10e1d7023",
       "version_major": 2,
       "version_minor": 0
      },
      "text/plain": [
       "MetricVisualizer(layout=Layout(align_self='stretch', height='500px'))"
      ]
     },
     "metadata": {},
     "output_type": "display_data"
    },
    {
     "name": "stdout",
     "output_type": "stream",
     "text": [
      "Training on fold [0/5]\n",
      "\n",
      "bestTest = 0.7736915386\n",
      "bestIteration = 9\n",
      "\n",
      "Training on fold [1/5]\n",
      "\n",
      "bestTest = 0.7777972885\n",
      "bestIteration = 9\n",
      "\n",
      "Training on fold [2/5]\n",
      "\n",
      "bestTest = 0.7865714579\n",
      "bestIteration = 8\n",
      "\n",
      "Training on fold [3/5]\n",
      "\n",
      "bestTest = 0.7805676554\n",
      "bestIteration = 9\n",
      "\n",
      "Training on fold [4/5]\n",
      "\n",
      "bestTest = 0.7723393957\n",
      "bestIteration = 9\n",
      "\n",
      "f1-score mean value: 0.7494708868754574\n",
      "f1-score STD value: 0    0.001979\n",
      "1    0.003157\n",
      "2    0.001522\n",
      "3    0.001271\n",
      "4    0.002557\n",
      "5    0.002413\n",
      "6    0.003211\n",
      "7    0.002564\n",
      "8    0.003870\n",
      "9    0.001277\n",
      "Name: train-TotalF1-std, dtype: float64\n",
      "========================================\n"
     ]
    },
    {
     "data": {
      "application/vnd.jupyter.widget-view+json": {
       "model_id": "bf4c719573ba44169807e43ac009f906",
       "version_major": 2,
       "version_minor": 0
      },
      "text/plain": [
       "MetricVisualizer(layout=Layout(align_self='stretch', height='500px'))"
      ]
     },
     "metadata": {},
     "output_type": "display_data"
    },
    {
     "name": "stdout",
     "output_type": "stream",
     "text": [
      "Training on fold [0/5]\n",
      "\n",
      "bestTest = 0.7705284855\n",
      "bestIteration = 7\n",
      "\n",
      "Training on fold [1/5]\n",
      "\n",
      "bestTest = 0.7672308216\n",
      "bestIteration = 9\n",
      "\n",
      "Training on fold [2/5]\n",
      "\n",
      "bestTest = 0.7715824678\n",
      "bestIteration = 9\n",
      "\n",
      "Training on fold [3/5]\n",
      "\n",
      "bestTest = 0.7736136462\n",
      "bestIteration = 9\n",
      "\n",
      "Training on fold [4/5]\n",
      "\n",
      "bestTest = 0.7582198216\n",
      "bestIteration = 8\n",
      "\n",
      "f1-score mean value: 0.7485637034302441\n",
      "f1-score STD value: 0    0.001979\n",
      "1    0.002094\n",
      "2    0.001653\n",
      "3    0.002079\n",
      "4    0.004037\n",
      "5    0.003936\n",
      "6    0.003123\n",
      "7    0.002618\n",
      "8    0.002160\n",
      "9    0.002597\n",
      "Name: train-TotalF1-std, dtype: float64\n",
      "========================================\n"
     ]
    },
    {
     "data": {
      "application/vnd.jupyter.widget-view+json": {
       "model_id": "102f8432edbb43269efe2cce521eea3e",
       "version_major": 2,
       "version_minor": 0
      },
      "text/plain": [
       "MetricVisualizer(layout=Layout(align_self='stretch', height='500px'))"
      ]
     },
     "metadata": {},
     "output_type": "display_data"
    },
    {
     "name": "stdout",
     "output_type": "stream",
     "text": [
      "Training on fold [0/5]\n",
      "\n",
      "bestTest = 0.7615513938\n",
      "bestIteration = 8\n",
      "\n",
      "Training on fold [1/5]\n",
      "\n",
      "bestTest = 0.7620089252\n",
      "bestIteration = 9\n",
      "\n",
      "Training on fold [2/5]\n",
      "\n",
      "bestTest = 0.7601485512\n",
      "bestIteration = 9\n",
      "\n",
      "Training on fold [3/5]\n",
      "\n",
      "bestTest = 0.7651896106\n",
      "bestIteration = 9\n",
      "\n",
      "Training on fold [4/5]\n",
      "\n",
      "bestTest = 0.758864532\n",
      "bestIteration = 9\n",
      "\n",
      "f1-score mean value: 0.7487055292072433\n",
      "f1-score STD value: 0    0.001979\n",
      "1    0.003113\n",
      "2    0.003009\n",
      "3    0.004853\n",
      "4    0.003726\n",
      "5    0.002604\n",
      "6    0.004519\n",
      "7    0.004281\n",
      "8    0.004224\n",
      "9    0.004790\n",
      "Name: train-TotalF1-std, dtype: float64\n",
      "========================================\n"
     ]
    },
    {
     "data": {
      "application/vnd.jupyter.widget-view+json": {
       "model_id": "bf77dbb6ad4741a68ac17625b3eab1b7",
       "version_major": 2,
       "version_minor": 0
      },
      "text/plain": [
       "MetricVisualizer(layout=Layout(align_self='stretch', height='500px'))"
      ]
     },
     "metadata": {},
     "output_type": "display_data"
    },
    {
     "name": "stdout",
     "output_type": "stream",
     "text": [
      "Training on fold [0/5]\n",
      "\n",
      "bestTest = 0.7558751372\n",
      "bestIteration = 9\n",
      "\n",
      "Training on fold [1/5]\n",
      "\n",
      "bestTest = 0.7537161686\n",
      "bestIteration = 5\n",
      "\n",
      "Training on fold [2/5]\n",
      "\n",
      "bestTest = 0.7589338728\n",
      "bestIteration = 9\n",
      "\n",
      "Training on fold [3/5]\n",
      "\n",
      "bestTest = 0.7592983841\n",
      "bestIteration = 7\n",
      "\n",
      "Training on fold [4/5]\n",
      "\n",
      "bestTest = 0.7520887648\n",
      "bestIteration = 9\n",
      "\n",
      "f1-score mean value: 0.7488645867371749\n",
      "f1-score STD value: 0    0.001979\n",
      "1    0.003088\n",
      "2    0.003469\n",
      "3    0.002227\n",
      "4    0.001829\n",
      "5    0.002339\n",
      "6    0.003120\n",
      "7    0.003834\n",
      "8    0.003972\n",
      "9    0.004898\n",
      "Name: train-TotalF1-std, dtype: float64\n",
      "========================================\n"
     ]
    },
    {
     "data": {
      "application/vnd.jupyter.widget-view+json": {
       "model_id": "1d430f654f334990916e943a79080b9b",
       "version_major": 2,
       "version_minor": 0
      },
      "text/plain": [
       "MetricVisualizer(layout=Layout(align_self='stretch', height='500px'))"
      ]
     },
     "metadata": {},
     "output_type": "display_data"
    },
    {
     "name": "stdout",
     "output_type": "stream",
     "text": [
      "Training on fold [0/5]\n",
      "\n",
      "bestTest = 0.7484995002\n",
      "bestIteration = 3\n",
      "\n",
      "Training on fold [1/5]\n",
      "\n",
      "bestTest = 0.7442832362\n",
      "bestIteration = 8\n",
      "\n",
      "Training on fold [2/5]\n",
      "\n",
      "bestTest = 0.7537696344\n",
      "bestIteration = 7\n",
      "\n",
      "Training on fold [3/5]\n",
      "\n",
      "bestTest = 0.7572845176\n",
      "bestIteration = 5\n",
      "\n",
      "Training on fold [4/5]\n",
      "\n",
      "bestTest = 0.7474826298\n",
      "bestIteration = 1\n",
      "\n",
      "f1-score mean value: 0.7471291805139203\n",
      "f1-score STD value: 0    0.001979\n",
      "1    0.004257\n",
      "2    0.002295\n",
      "3    0.003526\n",
      "4    0.001159\n",
      "5    0.003287\n",
      "6    0.001983\n",
      "7    0.001917\n",
      "8    0.002100\n",
      "9    0.002311\n",
      "Name: train-TotalF1-std, dtype: float64\n",
      "========================================\n",
      "0:\tlearn: 0.5795610\ttotal: 2.95ms\tremaining: 26.5ms\n",
      "1:\tlearn: 0.5296667\ttotal: 5.95ms\tremaining: 23.8ms\n",
      "2:\tlearn: 0.5051750\ttotal: 8.41ms\tremaining: 19.6ms\n",
      "3:\tlearn: 0.4888256\ttotal: 11ms\tremaining: 16.4ms\n",
      "4:\tlearn: 0.4730398\ttotal: 13.3ms\tremaining: 13.3ms\n",
      "5:\tlearn: 0.4643716\ttotal: 16.1ms\tremaining: 10.7ms\n",
      "6:\tlearn: 0.4580249\ttotal: 18.5ms\tremaining: 7.93ms\n",
      "7:\tlearn: 0.4522819\ttotal: 20.7ms\tremaining: 5.18ms\n",
      "8:\tlearn: 0.4442828\ttotal: 23.2ms\tremaining: 2.57ms\n",
      "9:\tlearn: 0.4360672\ttotal: 25.9ms\tremaining: 0us\n",
      "Catboost test Accuracy: 0.5431078181523687\n",
      "Catboost test F1 Score\n",
      ":               precision    recall  f1-score   support\n",
      "\n",
      "           0       0.76      0.66      0.71      2443\n",
      "           1       0.81      0.88      0.84      4054\n",
      "\n",
      "    accuracy                           0.80      6497\n",
      "   macro avg       0.79      0.77      0.78      6497\n",
      "weighted avg       0.79      0.80      0.79      6497\n",
      "\n"
     ]
    },
    {
     "data": {
      "image/png": "[encoded data removed]",
      "text/plain": [
       "<Figure size 1700x1000 with 1 Axes>"
      ]
     },
     "metadata": {},
     "output_type": "display_data"
    }
   ],
   "source": [
    "catboost_flow(wine_quality_X_train, wine_quality_X_test, wine_quality_y_train, wine_quality_y_test)"
   ]
  },
  {
   "cell_type": "code",
   "execution_count": 25,
   "id": "54fd31b2",
   "metadata": {},
   "outputs": [
    {
     "name": "stderr",
     "output_type": "stream",
     "text": [
      "C:\\Users\\rinok\\anaconda3\\Lib\\site-packages\\sklearn\\neighbors\\_classification.py:228: DataConversionWarning: A column-vector y was passed when a 1d array was expected. Please change the shape of y to (n_samples,), for example using ravel().\n",
      "  return self._fit(X, y)\n",
      "C:\\Users\\rinok\\anaconda3\\Lib\\site-packages\\sklearn\\neighbors\\_classification.py:228: DataConversionWarning: A column-vector y was passed when a 1d array was expected. Please change the shape of y to (n_samples,), for example using ravel().\n",
      "  return self._fit(X, y)\n",
      "C:\\Users\\rinok\\anaconda3\\Lib\\site-packages\\sklearn\\neighbors\\_classification.py:228: DataConversionWarning: A column-vector y was passed when a 1d array was expected. Please change the shape of y to (n_samples,), for example using ravel().\n",
      "  return self._fit(X, y)\n",
      "C:\\Users\\rinok\\anaconda3\\Lib\\site-packages\\sklearn\\neighbors\\_classification.py:228: DataConversionWarning: A column-vector y was passed when a 1d array was expected. Please change the shape of y to (n_samples,), for example using ravel().\n",
      "  return self._fit(X, y)\n",
      "C:\\Users\\rinok\\anaconda3\\Lib\\site-packages\\sklearn\\neighbors\\_classification.py:228: DataConversionWarning: A column-vector y was passed when a 1d array was expected. Please change the shape of y to (n_samples,), for example using ravel().\n",
      "  return self._fit(X, y)\n",
      "C:\\Users\\rinok\\anaconda3\\Lib\\site-packages\\sklearn\\neighbors\\_classification.py:228: DataConversionWarning: A column-vector y was passed when a 1d array was expected. Please change the shape of y to (n_samples,), for example using ravel().\n",
      "  return self._fit(X, y)\n",
      "C:\\Users\\rinok\\anaconda3\\Lib\\site-packages\\sklearn\\neighbors\\_classification.py:228: DataConversionWarning: A column-vector y was passed when a 1d array was expected. Please change the shape of y to (n_samples,), for example using ravel().\n",
      "  return self._fit(X, y)\n",
      "C:\\Users\\rinok\\anaconda3\\Lib\\site-packages\\sklearn\\neighbors\\_classification.py:228: DataConversionWarning: A column-vector y was passed when a 1d array was expected. Please change the shape of y to (n_samples,), for example using ravel().\n",
      "  return self._fit(X, y)\n",
      "C:\\Users\\rinok\\anaconda3\\Lib\\site-packages\\sklearn\\neighbors\\_classification.py:228: DataConversionWarning: A column-vector y was passed when a 1d array was expected. Please change the shape of y to (n_samples,), for example using ravel().\n",
      "  return self._fit(X, y)\n",
      "C:\\Users\\rinok\\anaconda3\\Lib\\site-packages\\sklearn\\neighbors\\_classification.py:228: DataConversionWarning: A column-vector y was passed when a 1d array was expected. Please change the shape of y to (n_samples,), for example using ravel().\n",
      "  return self._fit(X, y)\n",
      "C:\\Users\\rinok\\anaconda3\\Lib\\site-packages\\sklearn\\neighbors\\_classification.py:228: DataConversionWarning: A column-vector y was passed when a 1d array was expected. Please change the shape of y to (n_samples,), for example using ravel().\n",
      "  return self._fit(X, y)\n",
      "C:\\Users\\rinok\\anaconda3\\Lib\\site-packages\\sklearn\\neighbors\\_classification.py:228: DataConversionWarning: A column-vector y was passed when a 1d array was expected. Please change the shape of y to (n_samples,), for example using ravel().\n",
      "  return self._fit(X, y)\n"
     ]
    },
    {
     "name": "stdout",
     "output_type": "stream",
     "text": [
      "accuracy mean value: 0.9492455646321009\n",
      "accuracy STD value: 0.003751642266966155\n",
      "========================================\n"
     ]
    },
    {
     "name": "stderr",
     "output_type": "stream",
     "text": [
      "C:\\Users\\rinok\\anaconda3\\Lib\\site-packages\\sklearn\\neighbors\\_classification.py:228: DataConversionWarning: A column-vector y was passed when a 1d array was expected. Please change the shape of y to (n_samples,), for example using ravel().\n",
      "  return self._fit(X, y)\n",
      "C:\\Users\\rinok\\anaconda3\\Lib\\site-packages\\sklearn\\neighbors\\_classification.py:228: DataConversionWarning: A column-vector y was passed when a 1d array was expected. Please change the shape of y to (n_samples,), for example using ravel().\n",
      "  return self._fit(X, y)\n",
      "C:\\Users\\rinok\\anaconda3\\Lib\\site-packages\\sklearn\\neighbors\\_classification.py:228: DataConversionWarning: A column-vector y was passed when a 1d array was expected. Please change the shape of y to (n_samples,), for example using ravel().\n",
      "  return self._fit(X, y)\n",
      "C:\\Users\\rinok\\anaconda3\\Lib\\site-packages\\sklearn\\neighbors\\_classification.py:228: DataConversionWarning: A column-vector y was passed when a 1d array was expected. Please change the shape of y to (n_samples,), for example using ravel().\n",
      "  return self._fit(X, y)\n",
      "C:\\Users\\rinok\\anaconda3\\Lib\\site-packages\\sklearn\\neighbors\\_classification.py:228: DataConversionWarning: A column-vector y was passed when a 1d array was expected. Please change the shape of y to (n_samples,), for example using ravel().\n",
      "  return self._fit(X, y)\n",
      "C:\\Users\\rinok\\anaconda3\\Lib\\site-packages\\sklearn\\neighbors\\_classification.py:228: DataConversionWarning: A column-vector y was passed when a 1d array was expected. Please change the shape of y to (n_samples,), for example using ravel().\n",
      "  return self._fit(X, y)\n",
      "C:\\Users\\rinok\\anaconda3\\Lib\\site-packages\\sklearn\\neighbors\\_classification.py:228: DataConversionWarning: A column-vector y was passed when a 1d array was expected. Please change the shape of y to (n_samples,), for example using ravel().\n",
      "  return self._fit(X, y)\n",
      "C:\\Users\\rinok\\anaconda3\\Lib\\site-packages\\sklearn\\neighbors\\_classification.py:228: DataConversionWarning: A column-vector y was passed when a 1d array was expected. Please change the shape of y to (n_samples,), for example using ravel().\n",
      "  return self._fit(X, y)\n",
      "C:\\Users\\rinok\\anaconda3\\Lib\\site-packages\\sklearn\\neighbors\\_classification.py:228: DataConversionWarning: A column-vector y was passed when a 1d array was expected. Please change the shape of y to (n_samples,), for example using ravel().\n",
      "  return self._fit(X, y)\n"
     ]
    },
    {
     "name": "stdout",
     "output_type": "stream",
     "text": [
      "accuracy mean value: 0.9163071691279377\n",
      "accuracy STD value: 0.0047418698786336165\n",
      "========================================\n"
     ]
    },
    {
     "name": "stderr",
     "output_type": "stream",
     "text": [
      "C:\\Users\\rinok\\anaconda3\\Lib\\site-packages\\sklearn\\neighbors\\_classification.py:228: DataConversionWarning: A column-vector y was passed when a 1d array was expected. Please change the shape of y to (n_samples,), for example using ravel().\n",
      "  return self._fit(X, y)\n",
      "C:\\Users\\rinok\\anaconda3\\Lib\\site-packages\\sklearn\\neighbors\\_classification.py:228: DataConversionWarning: A column-vector y was passed when a 1d array was expected. Please change the shape of y to (n_samples,), for example using ravel().\n",
      "  return self._fit(X, y)\n",
      "C:\\Users\\rinok\\anaconda3\\Lib\\site-packages\\sklearn\\neighbors\\_classification.py:228: DataConversionWarning: A column-vector y was passed when a 1d array was expected. Please change the shape of y to (n_samples,), for example using ravel().\n",
      "  return self._fit(X, y)\n",
      "C:\\Users\\rinok\\anaconda3\\Lib\\site-packages\\sklearn\\neighbors\\_classification.py:228: DataConversionWarning: A column-vector y was passed when a 1d array was expected. Please change the shape of y to (n_samples,), for example using ravel().\n",
      "  return self._fit(X, y)\n",
      "C:\\Users\\rinok\\anaconda3\\Lib\\site-packages\\sklearn\\neighbors\\_classification.py:228: DataConversionWarning: A column-vector y was passed when a 1d array was expected. Please change the shape of y to (n_samples,), for example using ravel().\n",
      "  return self._fit(X, y)\n",
      "C:\\Users\\rinok\\anaconda3\\Lib\\site-packages\\sklearn\\neighbors\\_classification.py:228: DataConversionWarning: A column-vector y was passed when a 1d array was expected. Please change the shape of y to (n_samples,), for example using ravel().\n",
      "  return self._fit(X, y)\n",
      "C:\\Users\\rinok\\anaconda3\\Lib\\site-packages\\sklearn\\neighbors\\_classification.py:228: DataConversionWarning: A column-vector y was passed when a 1d array was expected. Please change the shape of y to (n_samples,), for example using ravel().\n",
      "  return self._fit(X, y)\n",
      "C:\\Users\\rinok\\anaconda3\\Lib\\site-packages\\sklearn\\neighbors\\_classification.py:228: DataConversionWarning: A column-vector y was passed when a 1d array was expected. Please change the shape of y to (n_samples,), for example using ravel().\n",
      "  return self._fit(X, y)\n",
      "C:\\Users\\rinok\\anaconda3\\Lib\\site-packages\\sklearn\\neighbors\\_classification.py:228: DataConversionWarning: A column-vector y was passed when a 1d array was expected. Please change the shape of y to (n_samples,), for example using ravel().\n",
      "  return self._fit(X, y)\n"
     ]
    },
    {
     "name": "stdout",
     "output_type": "stream",
     "text": [
      "accuracy mean value: 0.8868708607947452\n",
      "accuracy STD value: 0.0049394117086722575\n",
      "========================================\n"
     ]
    },
    {
     "name": "stderr",
     "output_type": "stream",
     "text": [
      "C:\\Users\\rinok\\anaconda3\\Lib\\site-packages\\sklearn\\neighbors\\_classification.py:228: DataConversionWarning: A column-vector y was passed when a 1d array was expected. Please change the shape of y to (n_samples,), for example using ravel().\n",
      "  return self._fit(X, y)\n",
      "C:\\Users\\rinok\\anaconda3\\Lib\\site-packages\\sklearn\\neighbors\\_classification.py:228: DataConversionWarning: A column-vector y was passed when a 1d array was expected. Please change the shape of y to (n_samples,), for example using ravel().\n",
      "  return self._fit(X, y)\n",
      "C:\\Users\\rinok\\anaconda3\\Lib\\site-packages\\sklearn\\neighbors\\_classification.py:228: DataConversionWarning: A column-vector y was passed when a 1d array was expected. Please change the shape of y to (n_samples,), for example using ravel().\n",
      "  return self._fit(X, y)\n",
      "C:\\Users\\rinok\\anaconda3\\Lib\\site-packages\\sklearn\\neighbors\\_classification.py:228: DataConversionWarning: A column-vector y was passed when a 1d array was expected. Please change the shape of y to (n_samples,), for example using ravel().\n",
      "  return self._fit(X, y)\n",
      "C:\\Users\\rinok\\anaconda3\\Lib\\site-packages\\sklearn\\neighbors\\_classification.py:228: DataConversionWarning: A column-vector y was passed when a 1d array was expected. Please change the shape of y to (n_samples,), for example using ravel().\n",
      "  return self._fit(X, y)\n",
      "C:\\Users\\rinok\\anaconda3\\Lib\\site-packages\\sklearn\\neighbors\\_classification.py:228: DataConversionWarning: A column-vector y was passed when a 1d array was expected. Please change the shape of y to (n_samples,), for example using ravel().\n",
      "  return self._fit(X, y)\n",
      "C:\\Users\\rinok\\anaconda3\\Lib\\site-packages\\sklearn\\neighbors\\_classification.py:228: DataConversionWarning: A column-vector y was passed when a 1d array was expected. Please change the shape of y to (n_samples,), for example using ravel().\n",
      "  return self._fit(X, y)\n",
      "C:\\Users\\rinok\\anaconda3\\Lib\\site-packages\\sklearn\\neighbors\\_classification.py:228: DataConversionWarning: A column-vector y was passed when a 1d array was expected. Please change the shape of y to (n_samples,), for example using ravel().\n",
      "  return self._fit(X, y)\n",
      "C:\\Users\\rinok\\anaconda3\\Lib\\site-packages\\sklearn\\neighbors\\_classification.py:228: DataConversionWarning: A column-vector y was passed when a 1d array was expected. Please change the shape of y to (n_samples,), for example using ravel().\n",
      "  return self._fit(X, y)\n",
      "C:\\Users\\rinok\\anaconda3\\Lib\\site-packages\\sklearn\\neighbors\\_classification.py:228: DataConversionWarning: A column-vector y was passed when a 1d array was expected. Please change the shape of y to (n_samples,), for example using ravel().\n",
      "  return self._fit(X, y)\n",
      "C:\\Users\\rinok\\anaconda3\\Lib\\site-packages\\sklearn\\neighbors\\_classification.py:228: DataConversionWarning: A column-vector y was passed when a 1d array was expected. Please change the shape of y to (n_samples,), for example using ravel().\n",
      "  return self._fit(X, y)\n",
      "C:\\Users\\rinok\\anaconda3\\Lib\\site-packages\\sklearn\\neighbors\\_classification.py:228: DataConversionWarning: A column-vector y was passed when a 1d array was expected. Please change the shape of y to (n_samples,), for example using ravel().\n",
      "  return self._fit(X, y)\n"
     ]
    },
    {
     "name": "stdout",
     "output_type": "stream",
     "text": [
      "accuracy mean value: 0.8527780418891495\n",
      "accuracy STD value: 0.004447572476232715\n",
      "========================================\n"
     ]
    },
    {
     "name": "stderr",
     "output_type": "stream",
     "text": [
      "C:\\Users\\rinok\\anaconda3\\Lib\\site-packages\\sklearn\\neighbors\\_classification.py:228: DataConversionWarning: A column-vector y was passed when a 1d array was expected. Please change the shape of y to (n_samples,), for example using ravel().\n",
      "  return self._fit(X, y)\n",
      "C:\\Users\\rinok\\anaconda3\\Lib\\site-packages\\sklearn\\neighbors\\_classification.py:228: DataConversionWarning: A column-vector y was passed when a 1d array was expected. Please change the shape of y to (n_samples,), for example using ravel().\n",
      "  return self._fit(X, y)\n",
      "C:\\Users\\rinok\\anaconda3\\Lib\\site-packages\\sklearn\\neighbors\\_classification.py:228: DataConversionWarning: A column-vector y was passed when a 1d array was expected. Please change the shape of y to (n_samples,), for example using ravel().\n",
      "  return self._fit(X, y)\n",
      "C:\\Users\\rinok\\anaconda3\\Lib\\site-packages\\sklearn\\neighbors\\_classification.py:228: DataConversionWarning: A column-vector y was passed when a 1d array was expected. Please change the shape of y to (n_samples,), for example using ravel().\n",
      "  return self._fit(X, y)\n",
      "C:\\Users\\rinok\\anaconda3\\Lib\\site-packages\\sklearn\\neighbors\\_classification.py:228: DataConversionWarning: A column-vector y was passed when a 1d array was expected. Please change the shape of y to (n_samples,), for example using ravel().\n",
      "  return self._fit(X, y)\n",
      "C:\\Users\\rinok\\anaconda3\\Lib\\site-packages\\sklearn\\neighbors\\_classification.py:228: DataConversionWarning: A column-vector y was passed when a 1d array was expected. Please change the shape of y to (n_samples,), for example using ravel().\n",
      "  return self._fit(X, y)\n",
      "C:\\Users\\rinok\\anaconda3\\Lib\\site-packages\\sklearn\\neighbors\\_classification.py:228: DataConversionWarning: A column-vector y was passed when a 1d array was expected. Please change the shape of y to (n_samples,), for example using ravel().\n",
      "  return self._fit(X, y)\n",
      "C:\\Users\\rinok\\anaconda3\\Lib\\site-packages\\sklearn\\neighbors\\_classification.py:228: DataConversionWarning: A column-vector y was passed when a 1d array was expected. Please change the shape of y to (n_samples,), for example using ravel().\n",
      "  return self._fit(X, y)\n",
      "C:\\Users\\rinok\\anaconda3\\Lib\\site-packages\\sklearn\\neighbors\\_classification.py:228: DataConversionWarning: A column-vector y was passed when a 1d array was expected. Please change the shape of y to (n_samples,), for example using ravel().\n",
      "  return self._fit(X, y)\n"
     ]
    },
    {
     "name": "stdout",
     "output_type": "stream",
     "text": [
      "accuracy mean value: 0.8272662606953999\n",
      "accuracy STD value: 0.005012327436466747\n",
      "========================================\n"
     ]
    },
    {
     "name": "stderr",
     "output_type": "stream",
     "text": [
      "C:\\Users\\rinok\\anaconda3\\Lib\\site-packages\\sklearn\\neighbors\\_classification.py:228: DataConversionWarning: A column-vector y was passed when a 1d array was expected. Please change the shape of y to (n_samples,), for example using ravel().\n",
      "  return self._fit(X, y)\n",
      "C:\\Users\\rinok\\anaconda3\\Lib\\site-packages\\sklearn\\neighbors\\_classification.py:228: DataConversionWarning: A column-vector y was passed when a 1d array was expected. Please change the shape of y to (n_samples,), for example using ravel().\n",
      "  return self._fit(X, y)\n",
      "C:\\Users\\rinok\\anaconda3\\Lib\\site-packages\\sklearn\\neighbors\\_classification.py:228: DataConversionWarning: A column-vector y was passed when a 1d array was expected. Please change the shape of y to (n_samples,), for example using ravel().\n",
      "  return self._fit(X, y)\n",
      "C:\\Users\\rinok\\anaconda3\\Lib\\site-packages\\sklearn\\neighbors\\_classification.py:228: DataConversionWarning: A column-vector y was passed when a 1d array was expected. Please change the shape of y to (n_samples,), for example using ravel().\n",
      "  return self._fit(X, y)\n",
      "C:\\Users\\rinok\\anaconda3\\Lib\\site-packages\\sklearn\\neighbors\\_classification.py:228: DataConversionWarning: A column-vector y was passed when a 1d array was expected. Please change the shape of y to (n_samples,), for example using ravel().\n",
      "  return self._fit(X, y)\n",
      "C:\\Users\\rinok\\anaconda3\\Lib\\site-packages\\sklearn\\neighbors\\_classification.py:228: DataConversionWarning: A column-vector y was passed when a 1d array was expected. Please change the shape of y to (n_samples,), for example using ravel().\n",
      "  return self._fit(X, y)\n",
      "C:\\Users\\rinok\\anaconda3\\Lib\\site-packages\\sklearn\\neighbors\\_classification.py:228: DataConversionWarning: A column-vector y was passed when a 1d array was expected. Please change the shape of y to (n_samples,), for example using ravel().\n",
      "  return self._fit(X, y)\n",
      "C:\\Users\\rinok\\anaconda3\\Lib\\site-packages\\sklearn\\neighbors\\_classification.py:228: DataConversionWarning: A column-vector y was passed when a 1d array was expected. Please change the shape of y to (n_samples,), for example using ravel().\n",
      "  return self._fit(X, y)\n",
      "C:\\Users\\rinok\\anaconda3\\Lib\\site-packages\\sklearn\\neighbors\\_classification.py:228: DataConversionWarning: A column-vector y was passed when a 1d array was expected. Please change the shape of y to (n_samples,), for example using ravel().\n",
      "  return self._fit(X, y)\n"
     ]
    },
    {
     "name": "stdout",
     "output_type": "stream",
     "text": [
      "accuracy mean value: 0.7985609731462417\n",
      "accuracy STD value: 0.006300089903146861\n",
      "========================================\n",
      "Knn test Accuracy: 0.9582884408188395\n"
     ]
    },
    {
     "name": "stderr",
     "output_type": "stream",
     "text": [
      "C:\\Users\\rinok\\anaconda3\\Lib\\site-packages\\sklearn\\neighbors\\_classification.py:228: DataConversionWarning: A column-vector y was passed when a 1d array was expected. Please change the shape of y to (n_samples,), for example using ravel().\n",
      "  return self._fit(X, y)\n"
     ]
    },
    {
     "name": "stdout",
     "output_type": "stream",
     "text": [
      "Knn test F1 Score\n",
      ":               precision    recall  f1-score   support\n",
      "\n",
      "           0       0.95      0.94      0.94      2443\n",
      "           1       0.97      0.97      0.97      4054\n",
      "\n",
      "    accuracy                           0.96      6497\n",
      "   macro avg       0.96      0.96      0.96      6497\n",
      "weighted avg       0.96      0.96      0.96      6497\n",
      "\n"
     ]
    }
   ],
   "source": [
    "knn_flow(wine_quality_X_train, wine_quality_X_test, wine_quality_y_train, wine_quality_y_test)"
   ]
  },
  {
   "cell_type": "code",
   "execution_count": 26,
   "id": "aefe1b47",
   "metadata": {},
   "outputs": [
    {
     "name": "stderr",
     "output_type": "stream",
     "text": [
      "C:\\Users\\rinok\\anaconda3\\Lib\\site-packages\\sklearn\\utils\\validation.py:1184: DataConversionWarning: A column-vector y was passed when a 1d array was expected. Please change the shape of y to (n_samples, ), for example using ravel().\n",
      "  y = column_or_1d(y, warn=True)\n",
      "C:\\Users\\rinok\\anaconda3\\Lib\\site-packages\\sklearn\\utils\\validation.py:1184: DataConversionWarning: A column-vector y was passed when a 1d array was expected. Please change the shape of y to (n_samples, ), for example using ravel().\n",
      "  y = column_or_1d(y, warn=True)\n",
      "C:\\Users\\rinok\\anaconda3\\Lib\\site-packages\\sklearn\\utils\\validation.py:1184: DataConversionWarning: A column-vector y was passed when a 1d array was expected. Please change the shape of y to (n_samples, ), for example using ravel().\n",
      "  y = column_or_1d(y, warn=True)\n",
      "C:\\Users\\rinok\\anaconda3\\Lib\\site-packages\\sklearn\\utils\\validation.py:1184: DataConversionWarning: A column-vector y was passed when a 1d array was expected. Please change the shape of y to (n_samples, ), for example using ravel().\n",
      "  y = column_or_1d(y, warn=True)\n",
      "C:\\Users\\rinok\\anaconda3\\Lib\\site-packages\\sklearn\\utils\\validation.py:1184: DataConversionWarning: A column-vector y was passed when a 1d array was expected. Please change the shape of y to (n_samples, ), for example using ravel().\n",
      "  y = column_or_1d(y, warn=True)\n",
      "C:\\Users\\rinok\\anaconda3\\Lib\\site-packages\\sklearn\\utils\\validation.py:1184: DataConversionWarning: A column-vector y was passed when a 1d array was expected. Please change the shape of y to (n_samples, ), for example using ravel().\n",
      "  y = column_or_1d(y, warn=True)\n",
      "C:\\Users\\rinok\\anaconda3\\Lib\\site-packages\\sklearn\\utils\\validation.py:1184: DataConversionWarning: A column-vector y was passed when a 1d array was expected. Please change the shape of y to (n_samples, ), for example using ravel().\n",
      "  y = column_or_1d(y, warn=True)\n",
      "C:\\Users\\rinok\\anaconda3\\Lib\\site-packages\\sklearn\\utils\\validation.py:1184: DataConversionWarning: A column-vector y was passed when a 1d array was expected. Please change the shape of y to (n_samples, ), for example using ravel().\n",
      "  y = column_or_1d(y, warn=True)\n",
      "C:\\Users\\rinok\\anaconda3\\Lib\\site-packages\\sklearn\\utils\\validation.py:1184: DataConversionWarning: A column-vector y was passed when a 1d array was expected. Please change the shape of y to (n_samples, ), for example using ravel().\n",
      "  y = column_or_1d(y, warn=True)\n",
      "C:\\Users\\rinok\\anaconda3\\Lib\\site-packages\\sklearn\\utils\\validation.py:1184: DataConversionWarning: A column-vector y was passed when a 1d array was expected. Please change the shape of y to (n_samples, ), for example using ravel().\n",
      "  y = column_or_1d(y, warn=True)\n",
      "C:\\Users\\rinok\\anaconda3\\Lib\\site-packages\\sklearn\\utils\\validation.py:1184: DataConversionWarning: A column-vector y was passed when a 1d array was expected. Please change the shape of y to (n_samples, ), for example using ravel().\n",
      "  y = column_or_1d(y, warn=True)\n",
      "C:\\Users\\rinok\\anaconda3\\Lib\\site-packages\\sklearn\\utils\\validation.py:1184: DataConversionWarning: A column-vector y was passed when a 1d array was expected. Please change the shape of y to (n_samples, ), for example using ravel().\n",
      "  y = column_or_1d(y, warn=True)\n"
     ]
    },
    {
     "name": "stdout",
     "output_type": "stream",
     "text": [
      "accuracy mean value: 0.7305295220729474\n",
      "accuracy STD value: 0.011696225859238369\n",
      "========================================\n"
     ]
    },
    {
     "name": "stderr",
     "output_type": "stream",
     "text": [
      "C:\\Users\\rinok\\anaconda3\\Lib\\site-packages\\sklearn\\utils\\validation.py:1184: DataConversionWarning: A column-vector y was passed when a 1d array was expected. Please change the shape of y to (n_samples, ), for example using ravel().\n",
      "  y = column_or_1d(y, warn=True)\n",
      "C:\\Users\\rinok\\anaconda3\\Lib\\site-packages\\sklearn\\utils\\validation.py:1184: DataConversionWarning: A column-vector y was passed when a 1d array was expected. Please change the shape of y to (n_samples, ), for example using ravel().\n",
      "  y = column_or_1d(y, warn=True)\n",
      "C:\\Users\\rinok\\anaconda3\\Lib\\site-packages\\sklearn\\utils\\validation.py:1184: DataConversionWarning: A column-vector y was passed when a 1d array was expected. Please change the shape of y to (n_samples, ), for example using ravel().\n",
      "  y = column_or_1d(y, warn=True)\n",
      "C:\\Users\\rinok\\anaconda3\\Lib\\site-packages\\sklearn\\utils\\validation.py:1184: DataConversionWarning: A column-vector y was passed when a 1d array was expected. Please change the shape of y to (n_samples, ), for example using ravel().\n",
      "  y = column_or_1d(y, warn=True)\n",
      "C:\\Users\\rinok\\anaconda3\\Lib\\site-packages\\sklearn\\utils\\validation.py:1184: DataConversionWarning: A column-vector y was passed when a 1d array was expected. Please change the shape of y to (n_samples, ), for example using ravel().\n",
      "  y = column_or_1d(y, warn=True)\n",
      "C:\\Users\\rinok\\anaconda3\\Lib\\site-packages\\sklearn\\utils\\validation.py:1184: DataConversionWarning: A column-vector y was passed when a 1d array was expected. Please change the shape of y to (n_samples, ), for example using ravel().\n",
      "  y = column_or_1d(y, warn=True)\n",
      "C:\\Users\\rinok\\anaconda3\\Lib\\site-packages\\sklearn\\utils\\validation.py:1184: DataConversionWarning: A column-vector y was passed when a 1d array was expected. Please change the shape of y to (n_samples, ), for example using ravel().\n",
      "  y = column_or_1d(y, warn=True)\n",
      "C:\\Users\\rinok\\anaconda3\\Lib\\site-packages\\sklearn\\utils\\validation.py:1184: DataConversionWarning: A column-vector y was passed when a 1d array was expected. Please change the shape of y to (n_samples, ), for example using ravel().\n",
      "  y = column_or_1d(y, warn=True)\n",
      "C:\\Users\\rinok\\anaconda3\\Lib\\site-packages\\sklearn\\utils\\validation.py:1184: DataConversionWarning: A column-vector y was passed when a 1d array was expected. Please change the shape of y to (n_samples, ), for example using ravel().\n",
      "  y = column_or_1d(y, warn=True)\n"
     ]
    },
    {
     "name": "stdout",
     "output_type": "stream",
     "text": [
      "accuracy mean value: 0.7408421282420166\n",
      "accuracy STD value: 0.00949161658218682\n",
      "========================================\n"
     ]
    },
    {
     "name": "stderr",
     "output_type": "stream",
     "text": [
      "C:\\Users\\rinok\\anaconda3\\Lib\\site-packages\\sklearn\\utils\\validation.py:1184: DataConversionWarning: A column-vector y was passed when a 1d array was expected. Please change the shape of y to (n_samples, ), for example using ravel().\n",
      "  y = column_or_1d(y, warn=True)\n",
      "C:\\Users\\rinok\\anaconda3\\Lib\\site-packages\\sklearn\\utils\\validation.py:1184: DataConversionWarning: A column-vector y was passed when a 1d array was expected. Please change the shape of y to (n_samples, ), for example using ravel().\n",
      "  y = column_or_1d(y, warn=True)\n",
      "C:\\Users\\rinok\\anaconda3\\Lib\\site-packages\\sklearn\\utils\\validation.py:1184: DataConversionWarning: A column-vector y was passed when a 1d array was expected. Please change the shape of y to (n_samples, ), for example using ravel().\n",
      "  y = column_or_1d(y, warn=True)\n",
      "C:\\Users\\rinok\\anaconda3\\Lib\\site-packages\\sklearn\\utils\\validation.py:1184: DataConversionWarning: A column-vector y was passed when a 1d array was expected. Please change the shape of y to (n_samples, ), for example using ravel().\n",
      "  y = column_or_1d(y, warn=True)\n",
      "C:\\Users\\rinok\\anaconda3\\Lib\\site-packages\\sklearn\\utils\\validation.py:1184: DataConversionWarning: A column-vector y was passed when a 1d array was expected. Please change the shape of y to (n_samples, ), for example using ravel().\n",
      "  y = column_or_1d(y, warn=True)\n",
      "C:\\Users\\rinok\\anaconda3\\Lib\\site-packages\\sklearn\\utils\\validation.py:1184: DataConversionWarning: A column-vector y was passed when a 1d array was expected. Please change the shape of y to (n_samples, ), for example using ravel().\n",
      "  y = column_or_1d(y, warn=True)\n",
      "C:\\Users\\rinok\\anaconda3\\Lib\\site-packages\\sklearn\\utils\\validation.py:1184: DataConversionWarning: A column-vector y was passed when a 1d array was expected. Please change the shape of y to (n_samples, ), for example using ravel().\n",
      "  y = column_or_1d(y, warn=True)\n",
      "C:\\Users\\rinok\\anaconda3\\Lib\\site-packages\\sklearn\\utils\\validation.py:1184: DataConversionWarning: A column-vector y was passed when a 1d array was expected. Please change the shape of y to (n_samples, ), for example using ravel().\n",
      "  y = column_or_1d(y, warn=True)\n",
      "C:\\Users\\rinok\\anaconda3\\Lib\\site-packages\\sklearn\\utils\\validation.py:1184: DataConversionWarning: A column-vector y was passed when a 1d array was expected. Please change the shape of y to (n_samples, ), for example using ravel().\n",
      "  y = column_or_1d(y, warn=True)\n"
     ]
    },
    {
     "name": "stdout",
     "output_type": "stream",
     "text": [
      "accuracy mean value: 0.7295280265608167\n",
      "accuracy STD value: 0.012437786257295944\n",
      "========================================\n"
     ]
    },
    {
     "name": "stderr",
     "output_type": "stream",
     "text": [
      "C:\\Users\\rinok\\anaconda3\\Lib\\site-packages\\sklearn\\utils\\validation.py:1184: DataConversionWarning: A column-vector y was passed when a 1d array was expected. Please change the shape of y to (n_samples, ), for example using ravel().\n",
      "  y = column_or_1d(y, warn=True)\n",
      "C:\\Users\\rinok\\anaconda3\\Lib\\site-packages\\sklearn\\utils\\validation.py:1184: DataConversionWarning: A column-vector y was passed when a 1d array was expected. Please change the shape of y to (n_samples, ), for example using ravel().\n",
      "  y = column_or_1d(y, warn=True)\n",
      "C:\\Users\\rinok\\anaconda3\\Lib\\site-packages\\sklearn\\utils\\validation.py:1184: DataConversionWarning: A column-vector y was passed when a 1d array was expected. Please change the shape of y to (n_samples, ), for example using ravel().\n",
      "  y = column_or_1d(y, warn=True)\n",
      "C:\\Users\\rinok\\anaconda3\\Lib\\site-packages\\sklearn\\utils\\validation.py:1184: DataConversionWarning: A column-vector y was passed when a 1d array was expected. Please change the shape of y to (n_samples, ), for example using ravel().\n",
      "  y = column_or_1d(y, warn=True)\n",
      "C:\\Users\\rinok\\anaconda3\\Lib\\site-packages\\sklearn\\utils\\validation.py:1184: DataConversionWarning: A column-vector y was passed when a 1d array was expected. Please change the shape of y to (n_samples, ), for example using ravel().\n",
      "  y = column_or_1d(y, warn=True)\n",
      "C:\\Users\\rinok\\anaconda3\\Lib\\site-packages\\sklearn\\utils\\validation.py:1184: DataConversionWarning: A column-vector y was passed when a 1d array was expected. Please change the shape of y to (n_samples, ), for example using ravel().\n",
      "  y = column_or_1d(y, warn=True)\n",
      "C:\\Users\\rinok\\anaconda3\\Lib\\site-packages\\sklearn\\utils\\validation.py:1184: DataConversionWarning: A column-vector y was passed when a 1d array was expected. Please change the shape of y to (n_samples, ), for example using ravel().\n",
      "  y = column_or_1d(y, warn=True)\n",
      "C:\\Users\\rinok\\anaconda3\\Lib\\site-packages\\sklearn\\utils\\validation.py:1184: DataConversionWarning: A column-vector y was passed when a 1d array was expected. Please change the shape of y to (n_samples, ), for example using ravel().\n",
      "  y = column_or_1d(y, warn=True)\n",
      "C:\\Users\\rinok\\anaconda3\\Lib\\site-packages\\sklearn\\utils\\validation.py:1184: DataConversionWarning: A column-vector y was passed when a 1d array was expected. Please change the shape of y to (n_samples, ), for example using ravel().\n",
      "  y = column_or_1d(y, warn=True)\n",
      "C:\\Users\\rinok\\anaconda3\\Lib\\site-packages\\sklearn\\utils\\validation.py:1184: DataConversionWarning: A column-vector y was passed when a 1d array was expected. Please change the shape of y to (n_samples, ), for example using ravel().\n",
      "  y = column_or_1d(y, warn=True)\n",
      "C:\\Users\\rinok\\anaconda3\\Lib\\site-packages\\sklearn\\utils\\validation.py:1184: DataConversionWarning: A column-vector y was passed when a 1d array was expected. Please change the shape of y to (n_samples, ), for example using ravel().\n",
      "  y = column_or_1d(y, warn=True)\n",
      "C:\\Users\\rinok\\anaconda3\\Lib\\site-packages\\sklearn\\utils\\validation.py:1184: DataConversionWarning: A column-vector y was passed when a 1d array was expected. Please change the shape of y to (n_samples, ), for example using ravel().\n",
      "  y = column_or_1d(y, warn=True)\n"
     ]
    },
    {
     "name": "stdout",
     "output_type": "stream",
     "text": [
      "accuracy mean value: 0.7373021423233487\n",
      "accuracy STD value: 0.008505934703640014\n",
      "========================================\n"
     ]
    },
    {
     "name": "stderr",
     "output_type": "stream",
     "text": [
      "C:\\Users\\rinok\\anaconda3\\Lib\\site-packages\\sklearn\\utils\\validation.py:1184: DataConversionWarning: A column-vector y was passed when a 1d array was expected. Please change the shape of y to (n_samples, ), for example using ravel().\n",
      "  y = column_or_1d(y, warn=True)\n",
      "C:\\Users\\rinok\\anaconda3\\Lib\\site-packages\\sklearn\\utils\\validation.py:1184: DataConversionWarning: A column-vector y was passed when a 1d array was expected. Please change the shape of y to (n_samples, ), for example using ravel().\n",
      "  y = column_or_1d(y, warn=True)\n",
      "C:\\Users\\rinok\\anaconda3\\Lib\\site-packages\\sklearn\\utils\\validation.py:1184: DataConversionWarning: A column-vector y was passed when a 1d array was expected. Please change the shape of y to (n_samples, ), for example using ravel().\n",
      "  y = column_or_1d(y, warn=True)\n",
      "C:\\Users\\rinok\\anaconda3\\Lib\\site-packages\\sklearn\\utils\\validation.py:1184: DataConversionWarning: A column-vector y was passed when a 1d array was expected. Please change the shape of y to (n_samples, ), for example using ravel().\n",
      "  y = column_or_1d(y, warn=True)\n",
      "C:\\Users\\rinok\\anaconda3\\Lib\\site-packages\\sklearn\\utils\\validation.py:1184: DataConversionWarning: A column-vector y was passed when a 1d array was expected. Please change the shape of y to (n_samples, ), for example using ravel().\n",
      "  y = column_or_1d(y, warn=True)\n",
      "C:\\Users\\rinok\\anaconda3\\Lib\\site-packages\\sklearn\\utils\\validation.py:1184: DataConversionWarning: A column-vector y was passed when a 1d array was expected. Please change the shape of y to (n_samples, ), for example using ravel().\n",
      "  y = column_or_1d(y, warn=True)\n",
      "C:\\Users\\rinok\\anaconda3\\Lib\\site-packages\\sklearn\\utils\\validation.py:1184: DataConversionWarning: A column-vector y was passed when a 1d array was expected. Please change the shape of y to (n_samples, ), for example using ravel().\n",
      "  y = column_or_1d(y, warn=True)\n",
      "C:\\Users\\rinok\\anaconda3\\Lib\\site-packages\\sklearn\\utils\\validation.py:1184: DataConversionWarning: A column-vector y was passed when a 1d array was expected. Please change the shape of y to (n_samples, ), for example using ravel().\n",
      "  y = column_or_1d(y, warn=True)\n",
      "C:\\Users\\rinok\\anaconda3\\Lib\\site-packages\\sklearn\\utils\\validation.py:1184: DataConversionWarning: A column-vector y was passed when a 1d array was expected. Please change the shape of y to (n_samples, ), for example using ravel().\n",
      "  y = column_or_1d(y, warn=True)\n"
     ]
    },
    {
     "name": "stdout",
     "output_type": "stream",
     "text": [
      "accuracy mean value: 0.7317984710765466\n",
      "accuracy STD value: 0.011018672134541208\n",
      "========================================\n"
     ]
    },
    {
     "name": "stderr",
     "output_type": "stream",
     "text": [
      "C:\\Users\\rinok\\anaconda3\\Lib\\site-packages\\sklearn\\utils\\validation.py:1184: DataConversionWarning: A column-vector y was passed when a 1d array was expected. Please change the shape of y to (n_samples, ), for example using ravel().\n",
      "  y = column_or_1d(y, warn=True)\n",
      "C:\\Users\\rinok\\anaconda3\\Lib\\site-packages\\sklearn\\utils\\validation.py:1184: DataConversionWarning: A column-vector y was passed when a 1d array was expected. Please change the shape of y to (n_samples, ), for example using ravel().\n",
      "  y = column_or_1d(y, warn=True)\n",
      "C:\\Users\\rinok\\anaconda3\\Lib\\site-packages\\sklearn\\utils\\validation.py:1184: DataConversionWarning: A column-vector y was passed when a 1d array was expected. Please change the shape of y to (n_samples, ), for example using ravel().\n",
      "  y = column_or_1d(y, warn=True)\n",
      "C:\\Users\\rinok\\anaconda3\\Lib\\site-packages\\sklearn\\utils\\validation.py:1184: DataConversionWarning: A column-vector y was passed when a 1d array was expected. Please change the shape of y to (n_samples, ), for example using ravel().\n",
      "  y = column_or_1d(y, warn=True)\n",
      "C:\\Users\\rinok\\anaconda3\\Lib\\site-packages\\sklearn\\utils\\validation.py:1184: DataConversionWarning: A column-vector y was passed when a 1d array was expected. Please change the shape of y to (n_samples, ), for example using ravel().\n",
      "  y = column_or_1d(y, warn=True)\n",
      "C:\\Users\\rinok\\anaconda3\\Lib\\site-packages\\sklearn\\utils\\validation.py:1184: DataConversionWarning: A column-vector y was passed when a 1d array was expected. Please change the shape of y to (n_samples, ), for example using ravel().\n",
      "  y = column_or_1d(y, warn=True)\n",
      "C:\\Users\\rinok\\anaconda3\\Lib\\site-packages\\sklearn\\utils\\validation.py:1184: DataConversionWarning: A column-vector y was passed when a 1d array was expected. Please change the shape of y to (n_samples, ), for example using ravel().\n",
      "  y = column_or_1d(y, warn=True)\n",
      "C:\\Users\\rinok\\anaconda3\\Lib\\site-packages\\sklearn\\utils\\validation.py:1184: DataConversionWarning: A column-vector y was passed when a 1d array was expected. Please change the shape of y to (n_samples, ), for example using ravel().\n",
      "  y = column_or_1d(y, warn=True)\n",
      "C:\\Users\\rinok\\anaconda3\\Lib\\site-packages\\sklearn\\utils\\validation.py:1184: DataConversionWarning: A column-vector y was passed when a 1d array was expected. Please change the shape of y to (n_samples, ), for example using ravel().\n",
      "  y = column_or_1d(y, warn=True)\n"
     ]
    },
    {
     "name": "stdout",
     "output_type": "stream",
     "text": [
      "accuracy mean value: 0.7294504666773891\n",
      "accuracy STD value: 0.01417248710809445\n",
      "========================================\n"
     ]
    },
    {
     "name": "stderr",
     "output_type": "stream",
     "text": [
      "C:\\Users\\rinok\\anaconda3\\Lib\\site-packages\\sklearn\\utils\\validation.py:1184: DataConversionWarning: A column-vector y was passed when a 1d array was expected. Please change the shape of y to (n_samples, ), for example using ravel().\n",
      "  y = column_or_1d(y, warn=True)\n",
      "C:\\Users\\rinok\\anaconda3\\Lib\\site-packages\\sklearn\\utils\\validation.py:1184: DataConversionWarning: A column-vector y was passed when a 1d array was expected. Please change the shape of y to (n_samples, ), for example using ravel().\n",
      "  y = column_or_1d(y, warn=True)\n",
      "C:\\Users\\rinok\\anaconda3\\Lib\\site-packages\\sklearn\\utils\\validation.py:1184: DataConversionWarning: A column-vector y was passed when a 1d array was expected. Please change the shape of y to (n_samples, ), for example using ravel().\n",
      "  y = column_or_1d(y, warn=True)\n",
      "C:\\Users\\rinok\\anaconda3\\Lib\\site-packages\\sklearn\\utils\\validation.py:1184: DataConversionWarning: A column-vector y was passed when a 1d array was expected. Please change the shape of y to (n_samples, ), for example using ravel().\n",
      "  y = column_or_1d(y, warn=True)\n",
      "C:\\Users\\rinok\\anaconda3\\Lib\\site-packages\\sklearn\\utils\\validation.py:1184: DataConversionWarning: A column-vector y was passed when a 1d array was expected. Please change the shape of y to (n_samples, ), for example using ravel().\n",
      "  y = column_or_1d(y, warn=True)\n",
      "C:\\Users\\rinok\\anaconda3\\Lib\\site-packages\\sklearn\\utils\\validation.py:1184: DataConversionWarning: A column-vector y was passed when a 1d array was expected. Please change the shape of y to (n_samples, ), for example using ravel().\n",
      "  y = column_or_1d(y, warn=True)\n",
      "C:\\Users\\rinok\\anaconda3\\Lib\\site-packages\\sklearn\\utils\\validation.py:1184: DataConversionWarning: A column-vector y was passed when a 1d array was expected. Please change the shape of y to (n_samples, ), for example using ravel().\n",
      "  y = column_or_1d(y, warn=True)\n",
      "C:\\Users\\rinok\\anaconda3\\Lib\\site-packages\\sklearn\\utils\\validation.py:1184: DataConversionWarning: A column-vector y was passed when a 1d array was expected. Please change the shape of y to (n_samples, ), for example using ravel().\n",
      "  y = column_or_1d(y, warn=True)\n",
      "C:\\Users\\rinok\\anaconda3\\Lib\\site-packages\\sklearn\\utils\\validation.py:1184: DataConversionWarning: A column-vector y was passed when a 1d array was expected. Please change the shape of y to (n_samples, ), for example using ravel().\n",
      "  y = column_or_1d(y, warn=True)\n",
      "C:\\Users\\rinok\\anaconda3\\Lib\\site-packages\\sklearn\\utils\\validation.py:1184: DataConversionWarning: A column-vector y was passed when a 1d array was expected. Please change the shape of y to (n_samples, ), for example using ravel().\n",
      "  y = column_or_1d(y, warn=True)\n",
      "C:\\Users\\rinok\\anaconda3\\Lib\\site-packages\\sklearn\\utils\\validation.py:1184: DataConversionWarning: A column-vector y was passed when a 1d array was expected. Please change the shape of y to (n_samples, ), for example using ravel().\n",
      "  y = column_or_1d(y, warn=True)\n",
      "C:\\Users\\rinok\\anaconda3\\Lib\\site-packages\\sklearn\\utils\\validation.py:1184: DataConversionWarning: A column-vector y was passed when a 1d array was expected. Please change the shape of y to (n_samples, ), for example using ravel().\n",
      "  y = column_or_1d(y, warn=True)\n"
     ]
    },
    {
     "name": "stdout",
     "output_type": "stream",
     "text": [
      "accuracy mean value: 0.7326453059313096\n",
      "accuracy STD value: 0.016253673441363612\n",
      "========================================\n"
     ]
    },
    {
     "name": "stderr",
     "output_type": "stream",
     "text": [
      "C:\\Users\\rinok\\anaconda3\\Lib\\site-packages\\sklearn\\utils\\validation.py:1184: DataConversionWarning: A column-vector y was passed when a 1d array was expected. Please change the shape of y to (n_samples, ), for example using ravel().\n",
      "  y = column_or_1d(y, warn=True)\n",
      "C:\\Users\\rinok\\anaconda3\\Lib\\site-packages\\sklearn\\utils\\validation.py:1184: DataConversionWarning: A column-vector y was passed when a 1d array was expected. Please change the shape of y to (n_samples, ), for example using ravel().\n",
      "  y = column_or_1d(y, warn=True)\n",
      "C:\\Users\\rinok\\anaconda3\\Lib\\site-packages\\sklearn\\utils\\validation.py:1184: DataConversionWarning: A column-vector y was passed when a 1d array was expected. Please change the shape of y to (n_samples, ), for example using ravel().\n",
      "  y = column_or_1d(y, warn=True)\n",
      "C:\\Users\\rinok\\anaconda3\\Lib\\site-packages\\sklearn\\utils\\validation.py:1184: DataConversionWarning: A column-vector y was passed when a 1d array was expected. Please change the shape of y to (n_samples, ), for example using ravel().\n",
      "  y = column_or_1d(y, warn=True)\n",
      "C:\\Users\\rinok\\anaconda3\\Lib\\site-packages\\sklearn\\utils\\validation.py:1184: DataConversionWarning: A column-vector y was passed when a 1d array was expected. Please change the shape of y to (n_samples, ), for example using ravel().\n",
      "  y = column_or_1d(y, warn=True)\n",
      "C:\\Users\\rinok\\anaconda3\\Lib\\site-packages\\sklearn\\utils\\validation.py:1184: DataConversionWarning: A column-vector y was passed when a 1d array was expected. Please change the shape of y to (n_samples, ), for example using ravel().\n",
      "  y = column_or_1d(y, warn=True)\n",
      "C:\\Users\\rinok\\anaconda3\\Lib\\site-packages\\sklearn\\utils\\validation.py:1184: DataConversionWarning: A column-vector y was passed when a 1d array was expected. Please change the shape of y to (n_samples, ), for example using ravel().\n",
      "  y = column_or_1d(y, warn=True)\n",
      "C:\\Users\\rinok\\anaconda3\\Lib\\site-packages\\sklearn\\utils\\validation.py:1184: DataConversionWarning: A column-vector y was passed when a 1d array was expected. Please change the shape of y to (n_samples, ), for example using ravel().\n",
      "  y = column_or_1d(y, warn=True)\n",
      "C:\\Users\\rinok\\anaconda3\\Lib\\site-packages\\sklearn\\utils\\validation.py:1184: DataConversionWarning: A column-vector y was passed when a 1d array was expected. Please change the shape of y to (n_samples, ), for example using ravel().\n",
      "  y = column_or_1d(y, warn=True)\n",
      "C:\\Users\\rinok\\anaconda3\\Lib\\site-packages\\sklearn\\utils\\validation.py:1184: DataConversionWarning: A column-vector y was passed when a 1d array was expected. Please change the shape of y to (n_samples, ), for example using ravel().\n",
      "  y = column_or_1d(y, warn=True)\n"
     ]
    },
    {
     "name": "stdout",
     "output_type": "stream",
     "text": [
      "accuracy mean value: 0.7268739738532705\n",
      "accuracy STD value: 0.015771969937270078\n",
      "========================================\n"
     ]
    },
    {
     "name": "stderr",
     "output_type": "stream",
     "text": [
      "C:\\Users\\rinok\\anaconda3\\Lib\\site-packages\\sklearn\\utils\\validation.py:1184: DataConversionWarning: A column-vector y was passed when a 1d array was expected. Please change the shape of y to (n_samples, ), for example using ravel().\n",
      "  y = column_or_1d(y, warn=True)\n",
      "C:\\Users\\rinok\\anaconda3\\Lib\\site-packages\\sklearn\\utils\\validation.py:1184: DataConversionWarning: A column-vector y was passed when a 1d array was expected. Please change the shape of y to (n_samples, ), for example using ravel().\n",
      "  y = column_or_1d(y, warn=True)\n",
      "C:\\Users\\rinok\\anaconda3\\Lib\\site-packages\\sklearn\\utils\\validation.py:1184: DataConversionWarning: A column-vector y was passed when a 1d array was expected. Please change the shape of y to (n_samples, ), for example using ravel().\n",
      "  y = column_or_1d(y, warn=True)\n",
      "C:\\Users\\rinok\\anaconda3\\Lib\\site-packages\\sklearn\\utils\\validation.py:1184: DataConversionWarning: A column-vector y was passed when a 1d array was expected. Please change the shape of y to (n_samples, ), for example using ravel().\n",
      "  y = column_or_1d(y, warn=True)\n",
      "C:\\Users\\rinok\\anaconda3\\Lib\\site-packages\\sklearn\\utils\\validation.py:1184: DataConversionWarning: A column-vector y was passed when a 1d array was expected. Please change the shape of y to (n_samples, ), for example using ravel().\n",
      "  y = column_or_1d(y, warn=True)\n",
      "C:\\Users\\rinok\\anaconda3\\Lib\\site-packages\\sklearn\\utils\\validation.py:1184: DataConversionWarning: A column-vector y was passed when a 1d array was expected. Please change the shape of y to (n_samples, ), for example using ravel().\n",
      "  y = column_or_1d(y, warn=True)\n",
      "C:\\Users\\rinok\\anaconda3\\Lib\\site-packages\\sklearn\\utils\\validation.py:1184: DataConversionWarning: A column-vector y was passed when a 1d array was expected. Please change the shape of y to (n_samples, ), for example using ravel().\n",
      "  y = column_or_1d(y, warn=True)\n"
     ]
    },
    {
     "name": "stdout",
     "output_type": "stream",
     "text": [
      "accuracy mean value: 0.7226409103282159\n",
      "accuracy STD value: 0.0138075191072423\n",
      "========================================\n",
      "LogisticRegression test Accuracy: 0.7211020470986609\n",
      "LogisticRegression test F1 Score\n",
      ":               precision    recall  f1-score   support\n",
      "\n",
      "           0       0.66      0.52      0.59      2443\n",
      "           1       0.75      0.84      0.79      4054\n",
      "\n",
      "    accuracy                           0.72      6497\n",
      "   macro avg       0.70      0.68      0.69      6497\n",
      "weighted avg       0.71      0.72      0.71      6497\n",
      "\n"
     ]
    },
    {
     "name": "stderr",
     "output_type": "stream",
     "text": [
      "C:\\Users\\rinok\\anaconda3\\Lib\\site-packages\\sklearn\\utils\\validation.py:1184: DataConversionWarning: A column-vector y was passed when a 1d array was expected. Please change the shape of y to (n_samples, ), for example using ravel().\n",
      "  y = column_or_1d(y, warn=True)\n",
      "C:\\Users\\rinok\\anaconda3\\Lib\\site-packages\\sklearn\\utils\\validation.py:1184: DataConversionWarning: A column-vector y was passed when a 1d array was expected. Please change the shape of y to (n_samples, ), for example using ravel().\n",
      "  y = column_or_1d(y, warn=True)\n"
     ]
    }
   ],
   "source": [
    "logreg_flow(wine_quality_X_train, wine_quality_X_test, wine_quality_y_train, wine_quality_y_test)"
   ]
  }
 ],
 "metadata": {
  "kernelspec": {
   "display_name": "Python 3 (ipykernel)",
   "language": "python",
   "name": "python3"
  },
  "language_info": {
   "codemirror_mode": {
    "name": "ipython",
    "version": 3
   },
   "file_extension": ".py",
   "mimetype": "text/x-python",
   "name": "python",
   "nbconvert_exporter": "python",
   "pygments_lexer": "ipython3",
   "version": "3.11.5"
  }
 },
 "nbformat": 4,
 "nbformat_minor": 5
}
